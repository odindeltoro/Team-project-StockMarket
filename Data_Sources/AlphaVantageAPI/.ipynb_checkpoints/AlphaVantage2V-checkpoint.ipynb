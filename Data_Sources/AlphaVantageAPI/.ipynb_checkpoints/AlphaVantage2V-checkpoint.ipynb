{
 "cells": [
  {
   "cell_type": "markdown",
   "metadata": {},
   "source": [
    "# Alpha Vantage Stock API"
   ]
  },
  {
   "cell_type": "markdown",
   "metadata": {},
   "source": [
    "Stock API in JSON, Excel and Google Sheets.\n",
    "\n",
    "Call Volume = 5 API requests per minute and 500 requests per day.\n",
    "\n",
    "JSON and CSV responses.\n",
    "\n",
    "Categories: Time Series Stock APIs, Fundamental Data, Physical and Digital/Crypto Currencies, Technical Indicators"
   ]
  },
  {
   "cell_type": "markdown",
   "metadata": {},
   "source": [
    "**Time Series Stock**\n",
    "\n",
    "* provide global equity data in 4 different temporal resolutions: daily, weekly, monthly, and intraday. \n",
    "\n",
    "* Daily, weekly, and monthly time series contain 20+ years of historical data."
   ]
  },
  {
   "cell_type": "markdown",
   "metadata": {},
   "source": [
    "## Time Series Daily\n",
    "\n",
    "This API returns daily time series (date, daily open, daily high, daily low, daily close, daily volume) of the global equity specified, covering 20+ years of historical data.\n",
    "\n",
    "***Parameters***\n",
    "\n",
    "Required\n",
    "\n",
    "* Function: The time series of your choice. In this case, function=TIME_SERIES_DAILY\n",
    "\n",
    "* Symbol: The name of the equity of your choice. For example: symbol=IBM\n",
    "\n",
    "* apikey\n",
    "\n",
    "Optional\n",
    "\n",
    "* Outputsize: By default, outputsize=compact. Strings compact and full are accepted with the following specifications: compact returns only the latest 100 data points; full returns the full-length time series of 20+ years of historical data. The \"compact\" option is recommended if you would like to reduce the data size of each API call.\n",
    "\n",
    "* Datatype: By default, datatype=json. Strings json and csv are accepted with the following specifications: json returns the daily time series in JSON format; csv returns the time series as a CSV (comma separated value) file.\n",
    "\n",
    "Examples\n",
    "\n",
    "***JSON Output***\n",
    "\n",
    "https://www.alphavantage.co/query?function=TIME_SERIES_DAILY&symbol=IBM&apikey=demo\n",
    "\n",
    "https://www.alphavantage.co/query?function=TIME_SERIES_DAILY&symbol=IBM&outputsize=full&apikey=demo\n",
    "\n",
    "***CSV Files***\n",
    "\n",
    "https://www.alphavantage.co/query?function=TIME_SERIES_DAILY&symbol=IBM&apikey=demo&datatype=csv"
   ]
  },
  {
   "cell_type": "markdown",
   "metadata": {},
   "source": [
    "## Time Series Daily Adjusted\n",
    "\n",
    "This API returns daily time series (date, daily open, daily high, daily low, daily close, daily volume, daily adjusted close, and split/dividend events) of the global equity specified, covering 20+ years of historical data.\n",
    "\n",
    "***Parameters***\n",
    "\n",
    "Required\n",
    "\n",
    "* Function: The time series of your choice. In this case, function=TIME_SERIES_DAILY_ADJUSTED\n",
    "\n",
    "* Symbol: The name of the equity of your choice. For example: symbol=IBM\n",
    "\n",
    "* apikey\n",
    "\n",
    "Optional\n",
    "\n",
    "* Outputsize: By default, outputsize=compact. Strings compact and full are accepted with the following specifications: compact returns only the latest 100 data points; full returns the full-length time series of 20+ years of historical data. The \"compact\" option is recommended if you would like to reduce the data size of each API call.\n",
    "\n",
    "* Datatype: By default, datatype=json. Strings json and csv are accepted with the following specifications: json returns the daily time series in JSON format; csv returns the time series as a CSV (comma separated value) file.\n",
    "\n",
    "Examples\n",
    "\n",
    "***JSON Output***\n",
    "\n",
    "https://www.alphavantage.co/query?function=TIME_SERIES_DAILY_ADJUSTED&symbol=IBM&apikey=demo\n",
    "\n",
    "https://www.alphavantage.co/query?function=TIME_SERIES_DAILY_ADJUSTED&symbol=IBM&outputsize=full&apikey=demo\n",
    "\n",
    "***CSV Files***\n",
    "\n",
    "https://www.alphavantage.co/query?function=TIME_SERIES_DAILY_ADJUSTED&symbol=IBM&apikey=demo&datatype=csv"
   ]
  },
  {
   "cell_type": "markdown",
   "metadata": {},
   "source": [
    "## Quote Endpoint\n",
    "\n",
    "A lightweight alternative to the time series APIs, this service returns the price and volume information for a security of your choice.\n",
    "\n",
    "***Parameters***\n",
    "\n",
    "Required\n",
    "\n",
    "* Function: The API function of your choice.\n",
    "\n",
    "* Symbol: The symbol of the global security of your choice. For example: symbol=IBM.\n",
    "\n",
    "* apikey\n",
    "\n",
    "Optional\n",
    "\n",
    "* Outputsize: By default, outputsize=compact. Strings compact and full are accepted with the following specifications: compact returns only the latest 100 data points; full returns the full-length time series of 20+ years of historical data. The \"compact\" option is recommended if you would like to reduce the data size of each API call.\n",
    "\n",
    "* Datatype: By default, datatype=json. Strings json and csv are accepted with the following specifications: json returns the daily time series in JSON format; csv returns the time series as a CSV (comma separated value) file.\n",
    "\n",
    "Examples\n",
    "\n",
    "***JSON Output***\n",
    "\n",
    "https://www.alphavantage.co/query?function=GLOBAL_QUOTE&symbol=IBM&apikey=demo\n",
    "\n",
    "https://www.alphavantage.co/query?function=GLOBAL_QUOTE&symbol=300135.SHZ&apikey=demo\n",
    "\n",
    "***CSV Files***\n",
    "\n",
    "https://www.alphavantage.co/query?function=GLOBAL_QUOTE&symbol=IBM&apikey=demo&datatype=csv"
   ]
  },
  {
   "cell_type": "markdown",
   "metadata": {},
   "source": [
    "## Search Endpoint\n",
    "\n",
    "The Search Endpoint returns the best-matching symbols and market information based on keywords of your choice. The search results also contain match scores that provide you with the full flexibility to develop your own search and filtering logic.\n",
    "\n",
    "***Parameters***\n",
    "\n",
    "Required\n",
    "\n",
    "* Function: The API function of your choice. In this case, function=SYMBOL_SEARCH\n",
    "\n",
    "* Keywords: A text string of your choice. For example: keywords=microsoft.\n",
    "\n",
    "* apikey\n",
    "\n",
    "Optional\n",
    "\n",
    "* Datatype: By default, datatype=json. Strings json and csv are accepted with the following specifications: json returns the daily time series in JSON format; csv returns the time series as a CSV (comma separated value) file.\n",
    "\n",
    "Examples\n",
    "\n",
    "***JSON Output***\n",
    "\n",
    "https://www.alphavantage.co/query?function=SYMBOL_SEARCH&keywords=BA&apikey=demo\n",
    "\n",
    "https://www.alphavantage.co/query?function=SYMBOL_SEARCH&keywords=Micro&apikey=demo\n",
    "\n",
    "https://www.alphavantage.co/query?function=SYMBOL_SEARCH&keywords=sony&apikey=demo\n",
    "\n",
    "https://www.alphavantage.co/query?function=SYMBOL_SEARCH&keywords=xiaomi&apikey=demo\n",
    "\n",
    "***CSV Files***\n",
    "\n",
    "https://www.alphavantage.co/query?function=SYMBOL_SEARCH&keywords=BA&apikey=demo&datatype=csv"
   ]
  },
  {
   "cell_type": "code",
   "execution_count": 2,
   "metadata": {},
   "outputs": [
    {
     "name": "stdout",
     "output_type": "stream",
     "text": [
      "Collecting alpha_vantage\n",
      "  Downloading https://files.pythonhosted.org/packages/12/e3/72ec32d859a363c2eebaa42e0d4abb5ac7172a7a77a2307576ceb5fc1b42/alpha_vantage-2.2.0.tar.gz\n",
      "Collecting aiohttp (from alpha_vantage)\n",
      "  Downloading https://files.pythonhosted.org/packages/0b/b3/744a16bdaba2e4df90f6ff10b9ade9c2dce3f01d94848f3949aa4ce7868d/aiohttp-3.6.2-cp37-cp37m-win_amd64.whl (649kB)\n",
      "Requirement already satisfied: requests in c:\\users\\ododt\\anaconda3\\lib\\site-packages (from alpha_vantage) (2.22.0)\n",
      "Requirement already satisfied: attrs>=17.3.0 in c:\\users\\ododt\\anaconda3\\lib\\site-packages (from aiohttp->alpha_vantage) (19.2.0)\n",
      "Collecting multidict<5.0,>=4.5 (from aiohttp->alpha_vantage)\n",
      "  Downloading https://files.pythonhosted.org/packages/58/b8/327b0391f14ce7fa001ba5911b4504cf1812617b33a51b837638026f756e/multidict-4.7.6-cp37-cp37m-win_amd64.whl (48kB)\n",
      "Collecting async-timeout<4.0,>=3.0 (from aiohttp->alpha_vantage)\n",
      "  Downloading https://files.pythonhosted.org/packages/e1/1e/5a4441be21b0726c4464f3f23c8b19628372f606755a9d2e46c187e65ec4/async_timeout-3.0.1-py3-none-any.whl\n",
      "Collecting yarl<2.0,>=1.0 (from aiohttp->alpha_vantage)\n",
      "  Downloading https://files.pythonhosted.org/packages/31/bf/20538d516ef04497163569027d524dc36cd168752e7b0b6b8a1b0d9ba804/yarl-1.5.1-cp37-cp37m-win_amd64.whl (127kB)\n",
      "Requirement already satisfied: chardet<4.0,>=2.0 in c:\\users\\ododt\\anaconda3\\lib\\site-packages (from aiohttp->alpha_vantage) (3.0.4)\n",
      "Requirement already satisfied: certifi>=2017.4.17 in c:\\users\\ododt\\anaconda3\\lib\\site-packages (from requests->alpha_vantage) (2019.9.11)\n",
      "Requirement already satisfied: urllib3!=1.25.0,!=1.25.1,<1.26,>=1.21.1 in c:\\users\\ododt\\anaconda3\\lib\\site-packages (from requests->alpha_vantage) (1.25.10)\n",
      "Requirement already satisfied: idna<2.9,>=2.5 in c:\\users\\ododt\\anaconda3\\lib\\site-packages (from requests->alpha_vantage) (2.8)\n",
      "Collecting typing-extensions>=3.7.4; python_version < \"3.8\" (from yarl<2.0,>=1.0->aiohttp->alpha_vantage)\n",
      "  Downloading https://files.pythonhosted.org/packages/60/7a/e881b5abb54db0e6e671ab088d079c57ce54e8a01a3ca443f561ccadb37e/typing_extensions-3.7.4.3-py3-none-any.whl\n",
      "Building wheels for collected packages: alpha-vantage\n",
      "  Building wheel for alpha-vantage (setup.py): started\n",
      "  Building wheel for alpha-vantage (setup.py): finished with status 'done'\n",
      "  Created wheel for alpha-vantage: filename=alpha_vantage-2.2.0-cp37-none-any.whl size=25710 sha256=08850e790335894ca2df12f990515ea69e07abd839eecd1ac319c3e09e82704c\n",
      "  Stored in directory: C:\\Users\\ododt\\AppData\\Local\\pip\\Cache\\wheels\\3a\\fa\\05\\80b0afcbd2a4de8bd2a0c5cd77084e3d3a9cc12c48be9b7f84\n",
      "Successfully built alpha-vantage\n",
      "Installing collected packages: multidict, async-timeout, typing-extensions, yarl, aiohttp, alpha-vantage\n",
      "Successfully installed aiohttp-3.6.2 alpha-vantage-2.2.0 async-timeout-3.0.1 multidict-4.7.6 typing-extensions-3.7.4.3 yarl-1.5.1\n"
     ]
    }
   ],
   "source": [
    "!pip install alpha_vantage"
   ]
  },
  {
   "cell_type": "code",
   "execution_count": 3,
   "metadata": {},
   "outputs": [],
   "source": [
    "# from alpha_vantage.timeseries import TimeSeries\n",
    "# import os"
   ]
  },
  {
   "cell_type": "code",
   "execution_count": null,
   "metadata": {},
   "outputs": [],
   "source": [
    "# ts = TimeSeries(key=os.environ['API_KEY'], output_format='pandas')\n",
    "# data, meta_data = ts.get_intraday(symbol='MSFT',interval='1min', outputsize='full')"
   ]
  },
  {
   "cell_type": "markdown",
   "metadata": {},
   "source": [
    "# This API gets filtered by company name and doesn't specify index and data needed for ETF so won't be used for data extraction."
   ]
  },
  {
   "cell_type": "code",
   "execution_count": null,
   "metadata": {},
   "outputs": [],
   "source": []
  },
  {
   "cell_type": "code",
   "execution_count": null,
   "metadata": {},
   "outputs": [],
   "source": []
  },
  {
   "cell_type": "code",
   "execution_count": null,
   "metadata": {},
   "outputs": [],
   "source": []
  },
  {
   "cell_type": "code",
   "execution_count": null,
   "metadata": {},
   "outputs": [],
   "source": []
  }
 ],
 "metadata": {
  "kernelspec": {
   "display_name": "Python 3",
   "language": "python",
   "name": "python3"
  },
  "language_info": {
   "codemirror_mode": {
    "name": "ipython",
    "version": 3
   },
   "file_extension": ".py",
   "mimetype": "text/x-python",
   "name": "python",
   "nbconvert_exporter": "python",
   "pygments_lexer": "ipython3",
   "version": "3.7.4"
  }
 },
 "nbformat": 4,
 "nbformat_minor": 2
}
