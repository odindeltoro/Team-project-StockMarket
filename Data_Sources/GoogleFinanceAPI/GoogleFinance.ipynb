{
 "cells": [
  {
   "cell_type": "markdown",
   "metadata": {},
   "source": [
    "# Google Finance API"
   ]
  },
  {
   "cell_type": "markdown",
   "metadata": {},
   "source": [
    "The API was shutdown on 2012 and closed endpoints, nevertheless there are some sources from hongtaocai for extracting data. We will evaluate the liabiility of the source [GoogleFinance](https://github.com/hongtaocai/googlefinance/)"
   ]
  },
  {
   "cell_type": "code",
   "execution_count": 1,
   "metadata": {},
   "outputs": [
    {
     "name": "stdout",
     "output_type": "stream",
     "text": [
      "Collecting googlefinance\n",
      "  Downloading https://files.pythonhosted.org/packages/c5/e4/e1775ade2f0eee53a0ea9f347399c06f36ff4a165f3d44ca0a66ed23e395/googlefinance-0.7.tar.gz\n",
      "Building wheels for collected packages: googlefinance\n",
      "  Building wheel for googlefinance (setup.py): started\n",
      "  Building wheel for googlefinance (setup.py): finished with status 'done'\n",
      "  Created wheel for googlefinance: filename=googlefinance-0.7-cp37-none-any.whl size=2592 sha256=eee0ed39d19a88299b29b8a526c50657b451b4ac77e1d599b361ed64416c78f4\n",
      "  Stored in directory: C:\\Users\\ododt\\AppData\\Local\\pip\\Cache\\wheels\\49\\77\\e7\\78049cad250e494f200858583731a155dc89bc6e098d0b97ee\n",
      "Successfully built googlefinance\n",
      "Installing collected packages: googlefinance\n",
      "Successfully installed googlefinance-0.7\n"
     ]
    }
   ],
   "source": [
    "# Install google pip\n",
    "!pip install googlefinance"
   ]
  },
  {
   "cell_type": "code",
   "execution_count": 2,
   "metadata": {},
   "outputs": [
    {
     "ename": "SyntaxError",
     "evalue": "invalid syntax (<ipython-input-2-1ad2685ddf00>, line 3)",
     "output_type": "error",
     "traceback": [
      "\u001b[1;36m  File \u001b[1;32m\"<ipython-input-2-1ad2685ddf00>\"\u001b[1;36m, line \u001b[1;32m3\u001b[0m\n\u001b[1;33m    print json.dumps(getQuotes('AAPL'), indent=2)\u001b[0m\n\u001b[1;37m             ^\u001b[0m\n\u001b[1;31mSyntaxError\u001b[0m\u001b[1;31m:\u001b[0m invalid syntax\n"
     ]
    }
   ],
   "source": [
    "from googlefinance import getQuotes\n",
    "import json\n",
    "print json.dumps(getQuotes('AAPL'), indent=2)"
   ]
  },
  {
   "cell_type": "markdown",
   "metadata": {},
   "source": [
    "## It is confirmed that the endpoint of the API is closed"
   ]
  },
  {
   "cell_type": "code",
   "execution_count": null,
   "metadata": {},
   "outputs": [],
   "source": []
  }
 ],
 "metadata": {
  "kernelspec": {
   "display_name": "Python 3",
   "language": "python",
   "name": "python3"
  },
  "language_info": {
   "codemirror_mode": {
    "name": "ipython",
    "version": 3
   },
   "file_extension": ".py",
   "mimetype": "text/x-python",
   "name": "python",
   "nbconvert_exporter": "python",
   "pygments_lexer": "ipython3",
   "version": "3.7.4"
  }
 },
 "nbformat": 4,
 "nbformat_minor": 2
}
