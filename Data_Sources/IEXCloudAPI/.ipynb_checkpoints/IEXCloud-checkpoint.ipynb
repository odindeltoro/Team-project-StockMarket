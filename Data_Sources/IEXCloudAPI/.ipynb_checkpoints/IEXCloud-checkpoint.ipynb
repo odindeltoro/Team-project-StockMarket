{
 "cells": [
  {
   "cell_type": "markdown",
   "metadata": {},
   "source": [
    "# IEX Cloud API"
   ]
  },
  {
   "cell_type": "markdown",
   "metadata": {},
   "source": [
    "**Data Coverage**\n",
    "\n",
    "95,000+ securities, full U.S. market coverage, 20+ exchanges, 100+ currency pairs\n",
    "\n",
    "**Performance**\n",
    "\n",
    "800M+ API calls per day, 28ms avg latency\n",
    "\n",
    "5 year limit\n",
    "\n",
    "Filter by primary exchange index on paid subscription"
   ]
  },
  {
   "cell_type": "markdown",
   "metadata": {},
   "source": [
    "Free account includes:\n",
    "\n",
    "* 50,000 core messages/mo\n",
    "\n",
    "* Unlimited Investors Exchange data\n",
    "\n",
    "* Unlimited Sandbox Testing\n",
    "\n",
    "* Limited access to Core Data:\n",
    "\n",
    "Intraday U.S. Stock Prices, Historical U.S. Stock Prices (5Y), Historical Intl Stock Prices (5Y), Earnings (last), Dividends (last), Splits (last), Reference Data, Mutual Funds, OTC (EOD), News, Crypto\n"
   ]
  },
  {
   "cell_type": "code",
   "execution_count": null,
   "metadata": {},
   "outputs": [],
   "source": [
    "# Import dependencies\n",
    "import os\n",
    "import requests\n",
    "import json\n",
    "import pandas as pd\n",
    "from api_keys import apiKeySandbox"
   ]
  },
  {
   "cell_type": "code",
   "execution_count": null,
   "metadata": {},
   "outputs": [],
   "source": [
    "# URL for testing\n",
    "base_url_sandbox = \"https://sandbox.iexapis.com/\" \n",
    "base_url = \"https://cloud.iexapis.com/\" \n",
    "version = \"stable/stock/\"\n",
    "symbol_ERF = \"QQQ/\"\n",
    "endpoint = \"chart/\"\n",
    "date_range = \"max\" \n",
    "token_sandbox = apiKeySandbox"
   ]
  },
  {
   "cell_type": "code",
   "execution_count": null,
   "metadata": {},
   "outputs": [],
   "source": [
    "# Extract data for symbols\n",
    "HTTP_request_symbols = f\"{base_url_sandbox}/stable/ref-data/symbols?token={token_sandbox}\"\n",
    "results_sandbox_symbols = requests.get(HTTP_request_symbols).json()\n",
    "results_sandbox_symbols"
   ]
  },
  {
   "cell_type": "code",
   "execution_count": null,
   "metadata": {},
   "outputs": [],
   "source": [
    "# Make dataframe with symbols and companyName to choose\n"
   ]
  },
  {
   "cell_type": "code",
   "execution_count": null,
   "metadata": {},
   "outputs": [],
   "source": [
    "# Extract data for quotes\n",
    "HTTP_request_quotes = f\"{base_url_sandbox}/stable/stock/quote?token={token_sandbox}\"\n",
    "results_sandbox_quotes = requests.get(HTTP_request_quotes).json()\n",
    "results_sandbox_quotes"
   ]
  },
  {
   "cell_type": "code",
   "execution_count": null,
   "metadata": {},
   "outputs": [],
   "source": [
    "symbol_company = \"/\"\n",
    "companyName = \"/\"\n",
    "\n",
    "# Extract data for companies\n",
    "HTTP_request_company = f\"{base_url_sandbox}/stable/stock/{symbol_company}{companyName}?token={token_sandbox}\"\n",
    "results_sandbox_company = requests.get(HTTP_request_company).json()\n",
    "results_sandbox_company"
   ]
  },
  {
   "cell_type": "code",
   "execution_count": null,
   "metadata": {},
   "outputs": [],
   "source": [
    "symbol_financials = \"/\"\n",
    "\n",
    "# Extract financial data for companies\n",
    "HTTP_request_financials = f\"{base_url_sandbox}/stable/stock/{symbol_financials}financials?period=annual&token={token_sandbox}\"\n",
    "results_sandbox_financials = requests.get(HTTP_request_financials).json()\n",
    "results_sandbox_financials"
   ]
  },
  {
   "cell_type": "code",
   "execution_count": null,
   "metadata": {},
   "outputs": [],
   "source": [
    "https://sandbox.iexapis.com/stable/time-series/news?range=1m&limit=30&token=\n",
    "range_date = \"5y\"\n",
    "limit_query = \"2000\"\n",
    "# Extract news data for companies\n",
    "HTTP_request_news = f\"{base_url_sandbox}/stable/time-series/news?range={range_date}&limit={limit_query}&token={token_sandbox}\"\n",
    "results_sandbox_news = requests.get(HTTP_request_news).json()\n",
    "results_sandbox_news"
   ]
  },
  {
   "cell_type": "code",
   "execution_count": null,
   "metadata": {},
   "outputs": [],
   "source": [
    "# 5 Year ERF data\n",
    "HTTP_request_sandbox_ERF = f\"{base_url_sandbox}{version}{symbol_ERF}{endpoint}{date_range}?token={token_sandbox}\"\n",
    "results_sandbox_ERF = requests.get(HTTP_request_sandbox_ERF).json()\n",
    "results_sandbox_ERF"
   ]
  },
  {
   "cell_type": "code",
   "execution_count": null,
   "metadata": {},
   "outputs": [],
   "source": [
    "# 5 Year data for companies chosen\n"
   ]
  },
  {
   "cell_type": "code",
   "execution_count": null,
   "metadata": {},
   "outputs": [],
   "source": []
  },
  {
   "cell_type": "code",
   "execution_count": null,
   "metadata": {},
   "outputs": [],
   "source": []
  },
  {
   "cell_type": "code",
   "execution_count": null,
   "metadata": {},
   "outputs": [],
   "source": []
  },
  {
   "cell_type": "code",
   "execution_count": null,
   "metadata": {},
   "outputs": [],
   "source": []
  }
 ],
 "metadata": {
  "kernelspec": {
   "display_name": "Python 3",
   "language": "python",
   "name": "python3"
  },
  "language_info": {
   "codemirror_mode": {
    "name": "ipython",
    "version": 3
   },
   "file_extension": ".py",
   "mimetype": "text/x-python",
   "name": "python",
   "nbconvert_exporter": "python",
   "pygments_lexer": "ipython3",
   "version": "3.7.4"
  }
 },
 "nbformat": 4,
 "nbformat_minor": 2
}
