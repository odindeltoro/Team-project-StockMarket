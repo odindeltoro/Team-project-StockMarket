{
 "cells": [
  {
   "cell_type": "markdown",
   "metadata": {},
   "source": [
    "# IEX Cloud API"
   ]
  },
  {
   "cell_type": "markdown",
   "metadata": {},
   "source": [
    "**Data Coverage**\n",
    "\n",
    "95,000+ securities, full U.S. market coverage, 20+ exchanges, 100+ currency pairs\n",
    "\n",
    "**Performance**\n",
    "\n",
    "800M+ API calls per day, 28ms avg latency\n",
    "\n",
    "5 year limit\n",
    "\n",
    "Filter by primary exchange index on paid subscription"
   ]
  },
  {
   "cell_type": "markdown",
   "metadata": {},
   "source": [
    "Free account includes:\n",
    "\n",
    "* 50,000 core messages/mo\n",
    "\n",
    "* Unlimited Investors Exchange data\n",
    "\n",
    "* Unlimited Sandbox Testing\n",
    "\n",
    "* Limited access to Core Data:\n",
    "\n",
    "Intraday U.S. Stock Prices, Historical U.S. Stock Prices (5Y), Historical Intl Stock Prices (5Y), Earnings (last), Dividends (last), Splits (last), Reference Data, Mutual Funds, OTC (EOD), News, Crypto\n"
   ]
  },
  {
   "cell_type": "code",
   "execution_count": 1,
   "metadata": {},
   "outputs": [],
   "source": [
    "# Import dependencies\n",
    "import os\n",
    "import requests\n",
    "import json\n",
    "import pandas as pd\n",
    "from api_keys import apiKeySandbox"
   ]
  },
  {
   "cell_type": "code",
   "execution_count": 4,
   "metadata": {},
   "outputs": [],
   "source": [
    "# URL for testing\n",
    "base_url_sandbox = \"https://sandbox.iexapis.com/\" \n",
    "version = \"stable/stock/\"\n",
    "endpoint = \"chart/\"\n",
    "token_sandbox = apiKeySandbox"
   ]
  },
  {
   "cell_type": "code",
   "execution_count": 10,
   "metadata": {},
   "outputs": [
    {
     "data": {
      "text/plain": [
       "{'symbol': 'AAPL',\n",
       " 'financials': [{'reportDate': '2019-09-28',\n",
       "   'fiscalDate': '2019-09-15',\n",
       "   'currency': 'USD',\n",
       "   'grossProfit': 98063538649,\n",
       "   'costOfRevenue': 162442758871,\n",
       "   'operatingRevenue': 270265142831,\n",
       "   'totalRevenue': 272009439902,\n",
       "   'operatingIncome': 65131473289,\n",
       "   'netIncome': 57922667428,\n",
       "   'researchAndDevelopment': 16367646736,\n",
       "   'operatingExpense': 196927934249,\n",
       "   'currentAssets': 168601564687,\n",
       "   'totalAssets': 348808083922,\n",
       "   'totalLiabilities': 254855919706,\n",
       "   'currentCash': 28517516750,\n",
       "   'currentDebt': 16319369456,\n",
       "   'shortTermDebt': 16391468883,\n",
       "   'longTermDebt': 92584534656,\n",
       "   'totalCash': 101133586402,\n",
       "   'totalDebt': 109203990922,\n",
       "   'shareholderEquity': 92772509517,\n",
       "   'cashChange': 25231202534,\n",
       "   'cashFlow': 72582110946}]}"
      ]
     },
     "execution_count": 10,
     "metadata": {},
     "output_type": "execute_result"
    }
   ],
   "source": [
    "symbol_financials = \"AAPL/\"\n",
    "# Extract financial data for companies\n",
    "HTTP_request_financials = f\"{base_url_sandbox}{version}{symbol_financials}financials?period=annual&token={token_sandbox}\"\n",
    "results_sandbox_financials = requests.get(HTTP_request_financials).json()\n",
    "results_sandbox_financials"
   ]
  },
  {
   "cell_type": "code",
   "execution_count": null,
   "metadata": {},
   "outputs": [],
   "source": []
  },
  {
   "cell_type": "code",
   "execution_count": null,
   "metadata": {},
   "outputs": [],
   "source": []
  },
  {
   "cell_type": "code",
   "execution_count": null,
   "metadata": {},
   "outputs": [],
   "source": []
  },
  {
   "cell_type": "code",
   "execution_count": null,
   "metadata": {},
   "outputs": [],
   "source": []
  },
  {
   "cell_type": "code",
   "execution_count": null,
   "metadata": {},
   "outputs": [],
   "source": []
  },
  {
   "cell_type": "code",
   "execution_count": null,
   "metadata": {},
   "outputs": [],
   "source": []
  }
 ],
 "metadata": {
  "kernelspec": {
   "display_name": "Python 3",
   "language": "python",
   "name": "python3"
  },
  "language_info": {
   "codemirror_mode": {
    "name": "ipython",
    "version": 3
   },
   "file_extension": ".py",
   "mimetype": "text/x-python",
   "name": "python",
   "nbconvert_exporter": "python",
   "pygments_lexer": "ipython3",
   "version": "3.7.4"
  }
 },
 "nbformat": 4,
 "nbformat_minor": 2
}
