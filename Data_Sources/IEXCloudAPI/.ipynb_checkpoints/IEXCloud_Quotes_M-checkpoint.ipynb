{
 "cells": [
  {
   "cell_type": "markdown",
   "metadata": {},
   "source": [
    "# IEX Cloud API"
   ]
  },
  {
   "cell_type": "markdown",
   "metadata": {},
   "source": [
    "**Data Coverage**\n",
    "\n",
    "95,000+ securities, full U.S. market coverage, 20+ exchanges, 100+ currency pairs\n",
    "\n",
    "**Performance**\n",
    "\n",
    "800M+ API calls per day, 28ms avg latency\n",
    "\n",
    "5 year limit\n",
    "\n",
    "Filter by primary exchange index on paid subscription"
   ]
  },
  {
   "cell_type": "markdown",
   "metadata": {},
   "source": [
    "Free account includes:\n",
    "\n",
    "* 50,000 core messages/mo\n",
    "\n",
    "* Unlimited Investors Exchange data\n",
    "\n",
    "* Unlimited Sandbox Testing\n",
    "\n",
    "* Limited access to Core Data:\n",
    "\n",
    "Intraday U.S. Stock Prices, Historical U.S. Stock Prices (5Y), Historical Intl Stock Prices (5Y), Earnings (last), Dividends (last), Splits (last), Reference Data, Mutual Funds, OTC (EOD), News, Crypto\n"
   ]
  },
  {
   "cell_type": "code",
   "execution_count": 1,
   "metadata": {},
   "outputs": [],
   "source": [
    "# Import dependencies\n",
    "import os\n",
    "import requests\n",
    "import json\n",
    "import pandas as pd\n",
    "from api_keys import apiKeySandbox"
   ]
  },
  {
   "cell_type": "code",
   "execution_count": 4,
   "metadata": {},
   "outputs": [],
   "source": [
    "# URL for testing\n",
    "base_url_sandbox = \"https://sandbox.iexapis.com/\" \n",
    "version = \"stable/stock/\"\n",
    "endpoint = \"chart/\"\n",
    "token_sandbox = apiKeySandbox"
   ]
  },
  {
   "cell_type": "code",
   "execution_count": 12,
   "metadata": {},
   "outputs": [
    {
     "data": {
      "text/plain": [
       "{'symbol': 'AAPL',\n",
       " 'companyName': 'Apple, Inc.',\n",
       " 'primaryExchange': 'QDSNAA',\n",
       " 'calculationPrice': 'close',\n",
       " 'open': 531.6,\n",
       " 'openTime': 1647437573167,\n",
       " 'openSource': 'lfafcioi',\n",
       " 'close': 515.21,\n",
       " 'closeTime': 1641772401108,\n",
       " 'closeSource': 'icifofal',\n",
       " 'high': 530.33,\n",
       " 'highTime': 1623727551455,\n",
       " 'highSource': 'erme i de5padu1ltcin ey',\n",
       " 'low': 497.97,\n",
       " 'lowTime': 1657962438045,\n",
       " 'lowSource': 'ycnm  adeldi t5eeur1ipe',\n",
       " 'latestPrice': 507.9,\n",
       " 'latestSource': 'Close',\n",
       " 'latestTime': 'August 27, 2020',\n",
       " 'latestUpdate': 1674330830989,\n",
       " 'latestVolume': 39750667,\n",
       " 'iexRealtimePrice': 505.098,\n",
       " 'iexRealtimeSize': 10,\n",
       " 'iexLastUpdated': 1653418471288,\n",
       " 'delayedPrice': 509.7,\n",
       " 'delayedPriceTime': 1631154675942,\n",
       " 'oddLotDelayedPrice': 500.83,\n",
       " 'oddLotDelayedPriceTime': 1639748012943,\n",
       " 'extendedPrice': 508.5,\n",
       " 'extendedChange': 0.76,\n",
       " 'extendedChangePercent': 0.00156,\n",
       " 'extendedPriceTime': 1677083853029,\n",
       " 'previousClose': 509.14,\n",
       " 'previousVolume': 41965669,\n",
       " 'change': -6.05,\n",
       " 'changePercent': -0.01218,\n",
       " 'volume': 38955312,\n",
       " 'iexMarketPercent': 0.01173468643655092,\n",
       " 'iexVolume': 464389,\n",
       " 'avgTotalVolume': 43986473,\n",
       " 'iexBidPrice': 0,\n",
       " 'iexBidSize': 0,\n",
       " 'iexAskPrice': 0,\n",
       " 'iexAskSize': 0,\n",
       " 'iexOpen': None,\n",
       " 'iexOpenTime': None,\n",
       " 'iexClose': 504.884,\n",
       " 'iexCloseTime': 1627105195542,\n",
       " 'marketCap': 2220185804170,\n",
       " 'peRatio': 38.09,\n",
       " 'week52High': 518.39,\n",
       " 'week52Low': 204.91,\n",
       " 'ytdChange': 0.699614,\n",
       " 'lastTradeTime': 1678350145096,\n",
       " 'isUSMarketOpen': False}"
      ]
     },
     "execution_count": 12,
     "metadata": {},
     "output_type": "execute_result"
    }
   ],
   "source": [
    "symbol_quote = \"AAPL/\"\n",
    "# Extract data for quotes\n",
    "HTTP_request_quotes = f\"{base_url_sandbox}{version}{symbol_quote}quote?token={token_sandbox}\"\n",
    "results_sandbox_quotes = requests.get(HTTP_request_quotes).json()\n",
    "results_sandbox_quotes"
   ]
  },
  {
   "cell_type": "code",
   "execution_count": null,
   "metadata": {},
   "outputs": [],
   "source": []
  },
  {
   "cell_type": "code",
   "execution_count": null,
   "metadata": {},
   "outputs": [],
   "source": []
  },
  {
   "cell_type": "code",
   "execution_count": null,
   "metadata": {},
   "outputs": [],
   "source": []
  },
  {
   "cell_type": "code",
   "execution_count": null,
   "metadata": {},
   "outputs": [],
   "source": []
  },
  {
   "cell_type": "code",
   "execution_count": null,
   "metadata": {},
   "outputs": [],
   "source": []
  },
  {
   "cell_type": "code",
   "execution_count": null,
   "metadata": {},
   "outputs": [],
   "source": []
  }
 ],
 "metadata": {
  "kernelspec": {
   "display_name": "Python 3",
   "language": "python",
   "name": "python3"
  },
  "language_info": {
   "codemirror_mode": {
    "name": "ipython",
    "version": 3
   },
   "file_extension": ".py",
   "mimetype": "text/x-python",
   "name": "python",
   "nbconvert_exporter": "python",
   "pygments_lexer": "ipython3",
   "version": "3.7.4"
  }
 },
 "nbformat": 4,
 "nbformat_minor": 2
}
