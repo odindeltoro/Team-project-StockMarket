{
 "cells": [
  {
   "cell_type": "markdown",
   "metadata": {},
   "source": [
    "# IEX Cloud API"
   ]
  },
  {
   "cell_type": "markdown",
   "metadata": {},
   "source": [
    "**Data Coverage**\n",
    "\n",
    "95,000+ securities, full U.S. market coverage, 20+ exchanges, 100+ currency pairs\n",
    "\n",
    "**Performance**\n",
    "\n",
    "800M+ API calls per day, 28ms avg latency\n",
    "\n",
    "5 year limit\n",
    "\n",
    "Filter by primary exchange index on paid subscription"
   ]
  },
  {
   "cell_type": "markdown",
   "metadata": {},
   "source": [
    "Free account includes:\n",
    "\n",
    "* 50,000 core messages/mo\n",
    "\n",
    "* Unlimited Investors Exchange data\n",
    "\n",
    "* Unlimited Sandbox Testing\n",
    "\n",
    "* Limited access to Core Data:\n",
    "\n",
    "Intraday U.S. Stock Prices, Historical U.S. Stock Prices (5Y), Historical Intl Stock Prices (5Y), Earnings (last), Dividends (last), Splits (last), Reference Data, Mutual Funds, OTC (EOD), News, Crypto\n"
   ]
  },
  {
   "cell_type": "code",
   "execution_count": 1,
   "metadata": {},
   "outputs": [],
   "source": [
    "# Import dependencies\n",
    "import os\n",
    "import requests\n",
    "import json\n",
    "import pandas as pd\n",
    "from api_keys import apiKeySandbox"
   ]
  },
  {
   "cell_type": "code",
   "execution_count": 4,
   "metadata": {},
   "outputs": [],
   "source": [
    "# URL for testing\n",
    "base_url_sandbox = \"https://sandbox.iexapis.com/\" \n",
    "version = \"stable/stock/\"\n",
    "endpoint = \"chart/\"\n",
    "token_sandbox = apiKeySandbox"
   ]
  },
  {
   "cell_type": "code",
   "execution_count": 15,
   "metadata": {},
   "outputs": [
    {
     "data": {
      "text/plain": [
       "{'symbol': 'AAPL',\n",
       " 'companyName': 'Apple, Inc.',\n",
       " 'exchange': 'DNSQAA',\n",
       " 'industry': 'tamnqmnTiislecpcomuiuotn Eee',\n",
       " 'website': 'ptw./apcoww:tmhp.le/',\n",
       " 'description': ' r  sae,tedp, tp  ln.  ruCitlehAG daa,ii retpi vewatftpRPanAoiuShnn  gain iRnA arproncdliso ,o samvg roseG. t ,euedAgAomct az .dn sa gpsm hsrlcfanoadasoescgh e ocasaeh9c tasueeA oeadi ilRw nIreanhpAecaurus Jr  ta tosocc,sitee7,Eefhi m,e nap fcrT s.trTneoenaie erdueo.rtcnni  aW riduhaun  ppelh  s,gen ,ssy6maIdlespoeiveCn  , inuum,tcsaAso iernJTn li,edeg1pP ouenalta dtuns  r cioroliheedn  pauegtra egri uataetbcrnia   m Eim oaa naodrsiueraeadhdN h m cchfi.tsertltg np,s lewetercualapusnr aa, s nsc Ietcptw,eiteGsnoefiinan npevdahefocmn iannso r l sap dinioPi.eagu,g oes rnwPa:,a a Pbts lomfrsccsaltWTs  rtulBehd o  lhafnlasoippdcrsf tr tnndrTitAofacfE,dsor,pesoTeca,IygcHdeMA ie ta PAnEArSeb,. se ri  A.tsCao ioqe ledneeedhtil heclnit lkinCClgas ereK e ee ,eeenraa Mnc  iois,G ennbm  e  ,vg  t a,mW,h oedTo itsdlga1u s sp aesns  hr,rAnSdo,st,n C,s. in sts hAoaraicagVnmdestiyetCnc deeelhstoainecppsryd esao de',\n",
       " 'CEO': 'Tnoo h toColmaidDyk',\n",
       " 'securityName': '.pIpclAen ',\n",
       " 'issueType': 'sc',\n",
       " 'sector': 'ni cnooceclhlEeotygrT',\n",
       " 'primarySicCode': 3687,\n",
       " 'employees': 140892,\n",
       " 'tags': ['gcelrien ohctcTolyoEn', 'uqoenacitl uipmomTmncEnseiet'],\n",
       " 'address': '  APpenayOple Wrka',\n",
       " 'address2': None,\n",
       " 'state': 'CA',\n",
       " 'city': 'iunorpCte',\n",
       " 'zip': '5100289-43',\n",
       " 'country': 'SU',\n",
       " 'phone': '4.19.680119.00'}"
      ]
     },
     "execution_count": 15,
     "metadata": {},
     "output_type": "execute_result"
    }
   ],
   "source": [
    "symbol_company = \"AAPL/\"\n",
    "# Extract data for companies with issueType et (ETF Exchange Traded Fund)\n",
    "HTTP_request_company = f\"{base_url_sandbox}{version}{symbol_company}company?token={token_sandbox}\"\n",
    "results_sandbox_company = requests.get(HTTP_request_company).json()\n",
    "results_sandbox_company"
   ]
  },
  {
   "cell_type": "code",
   "execution_count": null,
   "metadata": {},
   "outputs": [],
   "source": []
  },
  {
   "cell_type": "code",
   "execution_count": null,
   "metadata": {},
   "outputs": [],
   "source": []
  },
  {
   "cell_type": "code",
   "execution_count": null,
   "metadata": {},
   "outputs": [],
   "source": []
  },
  {
   "cell_type": "code",
   "execution_count": null,
   "metadata": {},
   "outputs": [],
   "source": []
  },
  {
   "cell_type": "code",
   "execution_count": null,
   "metadata": {},
   "outputs": [],
   "source": []
  },
  {
   "cell_type": "code",
   "execution_count": null,
   "metadata": {},
   "outputs": [],
   "source": []
  }
 ],
 "metadata": {
  "kernelspec": {
   "display_name": "Python 3",
   "language": "python",
   "name": "python3"
  },
  "language_info": {
   "codemirror_mode": {
    "name": "ipython",
    "version": 3
   },
   "file_extension": ".py",
   "mimetype": "text/x-python",
   "name": "python",
   "nbconvert_exporter": "python",
   "pygments_lexer": "ipython3",
   "version": "3.7.4"
  }
 },
 "nbformat": 4,
 "nbformat_minor": 2
}
