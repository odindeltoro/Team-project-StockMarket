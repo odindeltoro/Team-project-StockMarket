{
 "cells": [
  {
   "cell_type": "markdown",
   "metadata": {},
   "source": [
    "# IEX Cloud API"
   ]
  },
  {
   "cell_type": "markdown",
   "metadata": {},
   "source": [
    "**Data Coverage**\n",
    "\n",
    "95,000+ securities, full U.S. market coverage, 20+ exchanges, 100+ currency pairs\n",
    "\n",
    "**Performance**\n",
    "\n",
    "800M+ API calls per day, 28ms avg latency\n",
    "\n",
    "5 year limit\n",
    "\n",
    "Filter by primary exchange index on paid subscription"
   ]
  },
  {
   "cell_type": "markdown",
   "metadata": {},
   "source": [
    "Free account includes:\n",
    "\n",
    "* 50,000 core messages/mo\n",
    "\n",
    "* Unlimited Investors Exchange data\n",
    "\n",
    "* Unlimited Sandbox Testing\n",
    "\n",
    "* Limited access to Core Data:\n",
    "\n",
    "Intraday U.S. Stock Prices, Historical U.S. Stock Prices (5Y), Historical Intl Stock Prices (5Y), Earnings (last), Dividends (last), Splits (last), Reference Data, Mutual Funds, OTC (EOD), News, Crypto\n"
   ]
  },
  {
   "cell_type": "code",
   "execution_count": null,
   "metadata": {},
   "outputs": [],
   "source": [
    "# Import dependencies\n",
    "import os\n",
    "import requests\n",
    "import json\n",
    "import pandas as pd\n",
    "from api_keys import apiKeySandbox"
   ]
  },
  {
   "cell_type": "code",
   "execution_count": null,
   "metadata": {},
   "outputs": [],
   "source": [
    "tickers = [\"AAPL\",\"AMZN\",\"MSFT\",\"FB\",\"GOOGL\",\"GOOG\",\"TSLA\",\"NVDA\",\"ADBE\",\"NFLX\",\"PYPL\",\n",
    "           \"INTC\",\"CMCSA\",\"PEP\",\"CSCO\",\"COST\",\"AMGN\",\"TMUS\",\"AVGO\",\"TXN\",\"QCOM\",\"CHTR\",\n",
    "           \"AMD\",\"SBUX\",\"INTU\",\"MDLZ\",\"GILD\",\"ISRG\",\"BKNG\",\"JD\",\"VRTX\",\"FISV\",\"ATVI\",\n",
    "           \"REGN\",\"MELI\",\"ADP\",\"AMAT\",\"CSX\",\"ADSK\",\"ILMN\",\"LRCX\",\"MU\",\"ZM\",\"LULU\",\"BIIB\",\n",
    "           \"ADI\",\"MNST\",\"KHC\",\"EA\",\"EBAY\",\"DXCM\",\"DOCU\",\"NTES\",\"WDAY\",\"CTSH\",\"EXC\",\"XEL\",\n",
    "           \"NXPI\",\"BIDU\",\"SPLK\",\"ORLY\",\"WBA\",\"CTAS\",\"SNPS\",\"KLAC\",\"IDXX\",\"ROST\",\"MAR\",\n",
    "           \"CDNS\",\"VRSK\",\"PCAR\",\"ASML\",\"ANSS\",\"FAST\",\"MRNA\",\"PAYX\",\"SGEN\",\"MCHP\",\"SIRI\",\n",
    "           \"XLNX\",\"DLTR\",\"PDD\",\"VRSN\",\"CPRT\",\"SWKS\",\"ALGN\",\"ALXN\",\"CERN\",\"INCY\",\"TTWO\",\n",
    "           \"MXIM\",\"CHKP\",\"CTXS\",\"CDW\",\"TCOM\",\"BMRN\",\"EXPE\",\"ULTA\",\"WDC\",\"LBTYK\"]"
   ]
  },
  {
   "cell_type": "code",
   "execution_count": null,
   "metadata": {},
   "outputs": [],
   "source": [
    "# URL for testing\n",
    "base_url_sandbox = \"https://sandbox.iexapis.com/\" \n",
    "version = \"stable/stock/\"\n",
    "endpoint = \"chart/\"\n",
    "token_sandbox = apiKeySandbox"
   ]
  },
  {
   "cell_type": "code",
   "execution_count": null,
   "metadata": {},
   "outputs": [],
   "source": [
    "# symbol_AAPL = \"AAPL/\"\n",
    "# # Extract financial data for companies\n",
    "# financials_APPL = f\"{base_url_sandbox}{version}{symbol_AAPL}financials?period=annual&token={token_sandbox}\"\n",
    "# results_AAPL = requests.get(financials_APPL).json()\n",
    "# c=pd.DataFrame(results_AAPL['financials']).columns\n",
    "# c"
   ]
  },
  {
   "cell_type": "code",
   "execution_count": null,
   "metadata": {},
   "outputs": [],
   "source": [
    "# financials=[]\n",
    "# for x in tickers:\n",
    "#     symbol_quote = x+\"/\"\n",
    "#     # Extract data for quotes\n",
    "#     financials_APPL = f\"{base_url_sandbox}{version}{symbol_AAPL}financials?period=annual&token={token_sandbox}\"\n",
    "#     results_AAPL = requests.get(financials_APPL).json()\n",
    "#     c=results_AAPL['financials']\n",
    "#     financials.append(c)\n",
    "# financials"
   ]
  },
  {
   "cell_type": "code",
   "execution_count": null,
   "metadata": {},
   "outputs": [],
   "source": [
    "symbol_AAPL = \"AAPL/\"\n",
    "# Extract financial data for companies\n",
    "financials_APPL = f\"{base_url_sandbox}{version}{symbol_AAPL}financials?period=annual&token={token_sandbox}\"\n",
    "results_AAPL = requests.get(financials_APPL).json()\n",
    "results_AAPL = pd.DataFrame(results_AAPL['financials'])\n",
    "results_AAPL"
   ]
  },
  {
   "cell_type": "code",
   "execution_count": null,
   "metadata": {},
   "outputs": [],
   "source": [
    "symbol_AMZN = \"AMZN/\"\n",
    "# Extract financial data for companies\n",
    "financials_AMZN = f\"{base_url_sandbox}{version}{symbol_AMZN}financials?period=annual&token={token_sandbox}\"\n",
    "results_AMZN = requests.get(financials_AMZN).json()\n",
    "results_AMZN = pd.DataFrame(results_AMZN['financials'])\n",
    "results_AMZN"
   ]
  },
  {
   "cell_type": "code",
   "execution_count": null,
   "metadata": {},
   "outputs": [],
   "source": [
    "symbol_MSFT = \"MSFT/\"\n",
    "# Extract financial data for companies\n",
    "financials_MSFT = f\"{base_url_sandbox}{version}{symbol_MSFT}financials?period=annual&token={token_sandbox}\"\n",
    "results_MSFT = requests.get(financials_MSFT).json()\n",
    "results_MSFT = pd.DataFrame(results_MSFT['financials'])\n",
    "results_MSFT"
   ]
  },
  {
   "cell_type": "code",
   "execution_count": null,
   "metadata": {},
   "outputs": [],
   "source": [
    "symbol_FB = \"FB/\"\n",
    "# Extract financial data for companies\n",
    "financials_FB = f\"{base_url_sandbox}{version}{symbol_FB}financials?period=annual&token={token_sandbox}\"\n",
    "results_FB = requests.get(financials_FB).json()\n",
    "results_FB = pd.DataFrame(results_FB['financials'])\n",
    "results_FB"
   ]
  },
  {
   "cell_type": "code",
   "execution_count": null,
   "metadata": {},
   "outputs": [],
   "source": [
    "symbol_GOOGL = \"GOOGL/\"\n",
    "# Extract financial data for companies\n",
    "financials_GOOGL = f\"{base_url_sandbox}{version}{symbol_GOOGL}financials?period=annual&token={token_sandbox}\"\n",
    "results_GOOGL = requests.get(financials_GOOGL).json()\n",
    "results_GOOGL = pd.DataFrame(results_GOOGL['financials'])\n",
    "results_GOOGL"
   ]
  },
  {
   "cell_type": "code",
   "execution_count": null,
   "metadata": {},
   "outputs": [],
   "source": [
    "symbol_GOOG = \"GOOG/\"\n",
    "# Extract financial data for companies\n",
    "financials_GOOG = f\"{base_url_sandbox}{version}{symbol_GOOG}financials?period=annual&token={token_sandbox}\"\n",
    "results_GOOG = requests.get(financials_GOOG).json()\n",
    "results_GOOG = pd.DataFrame(results_GOOG['financials'])\n",
    "results_GOOG"
   ]
  },
  {
   "cell_type": "code",
   "execution_count": null,
   "metadata": {},
   "outputs": [],
   "source": [
    "symbol_TSLA = \"TSLA/\"\n",
    "# Extract financial data for companies\n",
    "financials_TSLA = f\"{base_url_sandbox}{version}{symbol_TSLA}financials?period=annual&token={token_sandbox}\"\n",
    "results_TSLA = requests.get(financials_TSLA).json()\n",
    "results_TSLA = pd.DataFrame(results_TSLA['financials'])\n",
    "results_TSLA"
   ]
  },
  {
   "cell_type": "code",
   "execution_count": null,
   "metadata": {},
   "outputs": [],
   "source": [
    "symbol_NVDA = \"NVDA/\"\n",
    "# Extract financial data for companies\n",
    "financials_NVDA = f\"{base_url_sandbox}{version}{symbol_NVDA}financials?period=annual&token={token_sandbox}\"\n",
    "results_NVDA = requests.get(financials_NVDA).json()\n",
    "results_NVDA = pd.DataFrame(results_NVDA['financials'])\n",
    "results_NVDA"
   ]
  },
  {
   "cell_type": "code",
   "execution_count": null,
   "metadata": {},
   "outputs": [],
   "source": [
    "symbol_ADBE = \"ADBE/\"\n",
    "# Extract financial data for companies\n",
    "financials_ADBE = f\"{base_url_sandbox}{version}{symbol_ADBE}financials?period=annual&token={token_sandbox}\"\n",
    "results_ADBE = requests.get(financials_ADBE).json()\n",
    "results_ADBE = pd.DataFrame(results_ADBE['financials'])\n",
    "results_ADBE"
   ]
  },
  {
   "cell_type": "code",
   "execution_count": null,
   "metadata": {},
   "outputs": [],
   "source": [
    "symbol_NFLX = \"NFLX/\"\n",
    "# Extract financial data for companies\n",
    "financials_NFLX = f\"{base_url_sandbox}{version}{symbol_NFLX}financials?period=annual&token={token_sandbox}\"\n",
    "results_NFLX = requests.get(financials_NFLX).json()\n",
    "results_NFLX = pd.DataFrame(results_NFLX['financials'])\n",
    "results_NFLX"
   ]
  },
  {
   "cell_type": "code",
   "execution_count": null,
   "metadata": {},
   "outputs": [],
   "source": [
    "symbol_PYPL = \"PYPL/\"\n",
    "# Extract financial data for companies\n",
    "financials_PYPL = f\"{base_url_sandbox}{version}{symbol_PYPL}financials?period=annual&token={token_sandbox}\"\n",
    "results_PYPL = requests.get(financials_PYPL).json()\n",
    "results_PYPL = pd.DataFrame(results_PYPL['financials'])\n",
    "results_PYPL"
   ]
  },
  {
   "cell_type": "code",
   "execution_count": null,
   "metadata": {},
   "outputs": [],
   "source": [
    "symbol_INTC = \"INTC/\"\n",
    "# Extract financial data for companies\n",
    "financials_INTC = f\"{base_url_sandbox}{version}{symbol_INTC}financials?period=annual&token={token_sandbox}\"\n",
    "results_INTC = requests.get(financials_INTC).json()\n",
    "results_INTC = pd.DataFrame(results_INTC['financials'])\n",
    "results_INTC"
   ]
  },
  {
   "cell_type": "code",
   "execution_count": null,
   "metadata": {},
   "outputs": [],
   "source": [
    "symbol_CMCSA = \"CMCSA/\"\n",
    "# Extract financial data for companies\n",
    "financials_CMCSA = f\"{base_url_sandbox}{version}{symbol_CMCSA}financials?period=annual&token={token_sandbox}\"\n",
    "results_CMCSA = requests.get(financials_CMCSA).json()\n",
    "results_CMCSA = pd.DataFrame(results_CMCSA['financials'])\n",
    "results_CMCSA"
   ]
  },
  {
   "cell_type": "code",
   "execution_count": null,
   "metadata": {},
   "outputs": [],
   "source": [
    "symbol_PEP = \"PEP/\"\n",
    "# Extract financial data for companies\n",
    "financials_PEP = f\"{base_url_sandbox}{version}{symbol_PEP}financials?period=annual&token={token_sandbox}\"\n",
    "results_PEP = requests.get(financials_PEP).json()\n",
    "results_PEP = pd.DataFrame(results_PEP['financials'])\n",
    "results_PEP"
   ]
  },
  {
   "cell_type": "code",
   "execution_count": null,
   "metadata": {},
   "outputs": [],
   "source": [
    "symbol_CSCO = \"CSCO/\"\n",
    "# Extract financial data for companies\n",
    "financials_CSCO = f\"{base_url_sandbox}{version}{symbol_CSCO}financials?period=annual&token={token_sandbox}\"\n",
    "results_CSCO = requests.get(financials_CSCO).json()\n",
    "results_CSCO = pd.DataFrame(results_CSCO['financials'])\n",
    "results_CSCO"
   ]
  },
  {
   "cell_type": "code",
   "execution_count": null,
   "metadata": {},
   "outputs": [],
   "source": [
    "symbol_COST = \"COST/\"\n",
    "# Extract financial data for companies\n",
    "financials_COST = f\"{base_url_sandbox}{version}{symbol_COST}financials?period=annual&token={token_sandbox}\"\n",
    "results_COST = requests.get(financials_COST).json()\n",
    "results_COST = pd.DataFrame(results_COST['financials'])\n",
    "results_COST"
   ]
  },
  {
   "cell_type": "code",
   "execution_count": null,
   "metadata": {},
   "outputs": [],
   "source": [
    "symbol_AMGN = \"AMGN/\"\n",
    "# Extract financial data for companies\n",
    "financials_AMGN = f\"{base_url_sandbox}{version}{symbol_AMGN}financials?period=annual&token={token_sandbox}\"\n",
    "results_AMGN = requests.get(financials_AMGN).json()\n",
    "results_AMGN = pd.DataFrame(results_AMGN['financials'])\n",
    "results_AMGN"
   ]
  },
  {
   "cell_type": "code",
   "execution_count": null,
   "metadata": {},
   "outputs": [],
   "source": [
    "symbol_TMUS = \"TMUS/\"\n",
    "# Extract financial data for companies\n",
    "financials_TMUS = f\"{base_url_sandbox}{version}{symbol_TMUS}financials?period=annual&token={token_sandbox}\"\n",
    "results_TMUS = requests.get(financials_TMUS).json()\n",
    "results_TMUS = pd.DataFrame(results_TMUS['financials'])\n",
    "results_TMUS"
   ]
  },
  {
   "cell_type": "code",
   "execution_count": null,
   "metadata": {},
   "outputs": [],
   "source": [
    "symbol_AVGO = \"AVGO/\"\n",
    "# Extract financial data for companies\n",
    "financials_AVGO = f\"{base_url_sandbox}{version}{symbol_AVGO}financials?period=annual&token={token_sandbox}\"\n",
    "results_AVGO = requests.get(financials_AVGO).json()\n",
    "results_AVGO = pd.DataFrame(results_AVGO['financials'])\n",
    "results_AVGO"
   ]
  },
  {
   "cell_type": "code",
   "execution_count": null,
   "metadata": {},
   "outputs": [],
   "source": [
    "symbol_TXN = \"TXN/\"\n",
    "# Extract financial data for companies\n",
    "financials_TXN = f\"{base_url_sandbox}{version}{symbol_TXN}financials?period=annual&token={token_sandbox}\"\n",
    "results_TXN = requests.get(financials_TXN).json()\n",
    "results_TXN = pd.DataFrame(results_TXN['financials'])\n",
    "results_TXN"
   ]
  },
  {
   "cell_type": "code",
   "execution_count": null,
   "metadata": {},
   "outputs": [],
   "source": [
    "symbol_QCOM = \"QCOM/\"\n",
    "# Extract financial data for companies\n",
    "financials_QCOM = f\"{base_url_sandbox}{version}{symbol_QCOM}financials?period=annual&token={token_sandbox}\"\n",
    "results_QCOM = requests.get(financials_QCOM).json()\n",
    "results_QCOM = pd.DataFrame(results_QCOM['financials'])\n",
    "results_QCOM"
   ]
  },
  {
   "cell_type": "code",
   "execution_count": null,
   "metadata": {},
   "outputs": [],
   "source": [
    "symbol_CHTR = \"CHTR/\"\n",
    "# Extract financial data for companies\n",
    "financials_CHTR = f\"{base_url_sandbox}{version}{symbol_CHTR}financials?period=annual&token={token_sandbox}\"\n",
    "results_CHTR = requests.get(financials_CHTR).json()\n",
    "results_CHTR = pd.DataFrame(results_CHTR['financials'])\n",
    "results_CHTR"
   ]
  },
  {
   "cell_type": "code",
   "execution_count": null,
   "metadata": {},
   "outputs": [],
   "source": [
    "symbol_AMD = \"AMD/\"\n",
    "# Extract financial data for companies\n",
    "financials_AMD = f\"{base_url_sandbox}{version}{symbol_AMD}financials?period=annual&token={token_sandbox}\"\n",
    "results_AMD = requests.get(financials_AMD).json()\n",
    "results_AMD = pd.DataFrame(results_AMD['financials'])\n",
    "results_AMD"
   ]
  },
  {
   "cell_type": "code",
   "execution_count": null,
   "metadata": {},
   "outputs": [],
   "source": [
    "symbol_SBUX = \"SBUX/\"\n",
    "# Extract financial data for companies\n",
    "financials_SBUX = f\"{base_url_sandbox}{version}{symbol_SBUX}financials?period=annual&token={token_sandbox}\"\n",
    "results_SBUX = requests.get(financials_SBUX).json()\n",
    "results_SBUX = pd.DataFrame(results_SBUX['financials'])\n",
    "results_SBUX"
   ]
  },
  {
   "cell_type": "code",
   "execution_count": null,
   "metadata": {},
   "outputs": [],
   "source": [
    "symbol_INTU = \"INTU/\"\n",
    "# Extract financial data for companies\n",
    "financials_INTU = f\"{base_url_sandbox}{version}{symbol_INTU}financials?period=annual&token={token_sandbox}\"\n",
    "results_INTU = requests.get(financials_INTU).json()\n",
    "results_INTU = pd.DataFrame(results_INTU['financials'])\n",
    "results_INTU"
   ]
  },
  {
   "cell_type": "code",
   "execution_count": null,
   "metadata": {},
   "outputs": [],
   "source": [
    "symbol_MDLZ = \"MDLZ/\"\n",
    "# Extract financial data for companies\n",
    "financials_MDLZ = f\"{base_url_sandbox}{version}{symbol_MDLZ}financials?period=annual&token={token_sandbox}\"\n",
    "results_MDLZ = requests.get(financials_MDLZ).json()\n",
    "results_MDLZ = pd.DataFrame(results_MDLZ['financials'])\n",
    "results_MDLZ"
   ]
  },
  {
   "cell_type": "code",
   "execution_count": null,
   "metadata": {},
   "outputs": [],
   "source": [
    "symbol_GILD = \"GILD/\"\n",
    "# Extract financial data for companies\n",
    "financials_GILD = f\"{base_url_sandbox}{version}{symbol_GILD}financials?period=annual&token={token_sandbox}\"\n",
    "results_GILD = requests.get(financials_GILD).json()\n",
    "results_GILD = pd.DataFrame(results_GILD['financials'])\n",
    "results_GILD"
   ]
  },
  {
   "cell_type": "code",
   "execution_count": null,
   "metadata": {},
   "outputs": [],
   "source": [
    "symbol_ISRG = \"ISRG/\"\n",
    "# Extract financial data for companies\n",
    "financials_ISRG = f\"{base_url_sandbox}{version}{symbol_ISRG}financials?period=annual&token={token_sandbox}\"\n",
    "results_ISRG = requests.get(financials_ISRG).json()\n",
    "results_ISRG = pd.DataFrame(results_ISRG['financials'])\n",
    "results_ISRG"
   ]
  },
  {
   "cell_type": "code",
   "execution_count": null,
   "metadata": {},
   "outputs": [],
   "source": [
    "symbol_BKNG = \"BKNG/\"\n",
    "# Extract financial data for companies\n",
    "financials_BKNG = f\"{base_url_sandbox}{version}{symbol_BKNG}financials?period=annual&token={token_sandbox}\"\n",
    "results_BKNG = requests.get(financials_BKNG).json()\n",
    "results_BKNG = pd.DataFrame(results_BKNG['financials'])\n",
    "results_BKNG"
   ]
  },
  {
   "cell_type": "code",
   "execution_count": null,
   "metadata": {},
   "outputs": [],
   "source": [
    "symbol_JD = \"JD/\"\n",
    "# Extract financial data for companies\n",
    "financials_JD = f\"{base_url_sandbox}{version}{symbol_JD}financials?period=annual&token={token_sandbox}\"\n",
    "results_JD = requests.get(financials_JD).json()\n",
    "results_JD = pd.DataFrame(results_JD['financials'])\n",
    "results_JD"
   ]
  },
  {
   "cell_type": "code",
   "execution_count": null,
   "metadata": {},
   "outputs": [],
   "source": [
    "symbol_VRTX = \"VRTX/\"\n",
    "# Extract financial data for companies\n",
    "financials_VRTX = f\"{base_url_sandbox}{version}{symbol_VRTX}financials?period=annual&token={token_sandbox}\"\n",
    "results_VRTX = requests.get(financials_VRTX).json()\n",
    "results_VRTX = pd.DataFrame(results_VRTX['financials'])\n",
    "results_VRTX"
   ]
  },
  {
   "cell_type": "code",
   "execution_count": null,
   "metadata": {},
   "outputs": [],
   "source": [
    "symbol_FISV = \"FISV/\"\n",
    "# Extract financial data for companies\n",
    "financials_FISV = f\"{base_url_sandbox}{version}{symbol_FISV}financials?period=annual&token={token_sandbox}\"\n",
    "results_FISV = requests.get(financials_FISV).json()\n",
    "results_FISV = pd.DataFrame(results_FISV['financials'])\n",
    "results_FISV"
   ]
  },
  {
   "cell_type": "code",
   "execution_count": null,
   "metadata": {},
   "outputs": [],
   "source": [
    "symbol_ATVI = \"ATVI/\"\n",
    "# Extract financial data for companies\n",
    "financials_ATVI = f\"{base_url_sandbox}{version}{symbol_ATVI}financials?period=annual&token={token_sandbox}\"\n",
    "results_ATVI = requests.get(financials_ATVI).json()\n",
    "results_ATVI = pd.DataFrame(results_ATVI['financials'])\n",
    "results_ATVI"
   ]
  },
  {
   "cell_type": "code",
   "execution_count": null,
   "metadata": {},
   "outputs": [],
   "source": [
    "symbol_REGN = \"REGN/\"\n",
    "# Extract financial data for companies\n",
    "financials_REGN = f\"{base_url_sandbox}{version}{symbol_REGN}financials?period=annual&token={token_sandbox}\"\n",
    "results_REGN = requests.get(financials_REGN).json()\n",
    "results_REGN = pd.DataFrame(results_REGN['financials'])\n",
    "results_REGN"
   ]
  },
  {
   "cell_type": "code",
   "execution_count": null,
   "metadata": {},
   "outputs": [],
   "source": [
    "symbol_MELI = \"MELI/\"\n",
    "# Extract financial data for companies\n",
    "financials_MELI = f\"{base_url_sandbox}{version}{symbol_MELI}financials?period=annual&token={token_sandbox}\"\n",
    "results_MELI = requests.get(financials_MELI).json()\n",
    "results_MELI = pd.DataFrame(results_MELI['financials'])\n",
    "results_MELI"
   ]
  },
  {
   "cell_type": "code",
   "execution_count": null,
   "metadata": {},
   "outputs": [],
   "source": [
    "symbol_ADP = \"ADP/\"\n",
    "# Extract financial data for companies\n",
    "financials_ADP = f\"{base_url_sandbox}{version}{symbol_ADP}financials?period=annual&token={token_sandbox}\"\n",
    "results_ADP = requests.get(financials_ADP).json()\n",
    "results_ADP = pd.DataFrame(results_ADP['financials'])\n",
    "results_ADP"
   ]
  },
  {
   "cell_type": "code",
   "execution_count": null,
   "metadata": {},
   "outputs": [],
   "source": [
    "symbol_AMAT = \"AMAT/\"\n",
    "# Extract financial data for companies\n",
    "financials_AMAT = f\"{base_url_sandbox}{version}{symbol_AMAT}financials?period=annual&token={token_sandbox}\"\n",
    "results_AMAT = requests.get(financials_AMAT).json()\n",
    "results_AMAT = pd.DataFrame(results_AMAT['financials'])\n",
    "results_AMAT"
   ]
  },
  {
   "cell_type": "code",
   "execution_count": null,
   "metadata": {},
   "outputs": [],
   "source": [
    "symbol_CSX = \"CSX/\"\n",
    "# Extract financial data for companies\n",
    "financials_CSX = f\"{base_url_sandbox}{version}{symbol_CSX}financials?period=annual&token={token_sandbox}\"\n",
    "results_CSX = requests.get(financials_CSX).json()\n",
    "results_CSX = pd.DataFrame(results_CSX['financials'])\n",
    "results_CSX"
   ]
  },
  {
   "cell_type": "code",
   "execution_count": null,
   "metadata": {},
   "outputs": [],
   "source": [
    "symbol_ADSK = \"ADSK/\"\n",
    "# Extract financial data for companies\n",
    "financials_ADSK = f\"{base_url_sandbox}{version}{symbol_ADSK}financials?period=annual&token={token_sandbox}\"\n",
    "results_ADSK = requests.get(financials_ADSK).json()\n",
    "results_ADSK = pd.DataFrame(results_ADSK['financials'])\n",
    "results_ADSK"
   ]
  },
  {
   "cell_type": "code",
   "execution_count": null,
   "metadata": {},
   "outputs": [],
   "source": [
    "symbol_ILMN = \"ILMN/\"\n",
    "# Extract financial data for companies\n",
    "financials_ILMN = f\"{base_url_sandbox}{version}{symbol_ILMN}financials?period=annual&token={token_sandbox}\"\n",
    "results_ILMN = requests.get(financials_ILMN).json()\n",
    "results_ILMN = pd.DataFrame(results_ILMN['financials'])\n",
    "results_ILMN"
   ]
  },
  {
   "cell_type": "code",
   "execution_count": null,
   "metadata": {},
   "outputs": [],
   "source": [
    "symbol_LRCX = \"LRCX/\"\n",
    "# Extract financial data for companies\n",
    "financials_LRCX = f\"{base_url_sandbox}{version}{symbol_LRCX}financials?period=annual&token={token_sandbox}\"\n",
    "results_LRCX = requests.get(financials_LRCX).json()\n",
    "results_LRCX = pd.DataFrame(results_LRCX['financials'])\n",
    "results_LRCX"
   ]
  },
  {
   "cell_type": "code",
   "execution_count": null,
   "metadata": {},
   "outputs": [],
   "source": [
    "symbol_MU = \"MU/\"\n",
    "# Extract financial data for companies\n",
    "financials_MU = f\"{base_url_sandbox}{version}{symbol_MU}financials?period=annual&token={token_sandbox}\"\n",
    "results_MU = requests.get(financials_MU).json()\n",
    "results_MU = pd.DataFrame(results_MU['financials'])\n",
    "results_MU"
   ]
  },
  {
   "cell_type": "code",
   "execution_count": null,
   "metadata": {},
   "outputs": [],
   "source": [
    "symbol_ZM = \"ZM/\"\n",
    "# Extract financial data for companies\n",
    "financials_ZM = f\"{base_url_sandbox}{version}{symbol_ZM}financials?period=annual&token={token_sandbox}\"\n",
    "results_ZM = requests.get(financials_ZM).json()\n",
    "results_ZM = pd.DataFrame(results_ZM['financials'])\n",
    "results_ZM"
   ]
  },
  {
   "cell_type": "code",
   "execution_count": null,
   "metadata": {},
   "outputs": [],
   "source": [
    "symbol_LULU = \"LULU/\"\n",
    "# Extract financial data for companies\n",
    "financials_LULU = f\"{base_url_sandbox}{version}{symbol_LULU}financials?period=annual&token={token_sandbox}\"\n",
    "results_LULU = requests.get(financials_LULU).json()\n",
    "results_LULU = pd.DataFrame(results_LULU['financials'])\n",
    "results_LULU"
   ]
  },
  {
   "cell_type": "code",
   "execution_count": null,
   "metadata": {},
   "outputs": [],
   "source": [
    "symbol_BIIB = \"BIIB/\"\n",
    "# Extract financial data for companies\n",
    "financials_BIIB = f\"{base_url_sandbox}{version}{symbol_BIIB}financials?period=annual&token={token_sandbox}\"\n",
    "results_BIIB = requests.get(financials_BIIB).json()\n",
    "results_BIIB = pd.DataFrame(results_BIIB['financials'])\n",
    "results_BIIB"
   ]
  },
  {
   "cell_type": "code",
   "execution_count": null,
   "metadata": {},
   "outputs": [],
   "source": [
    "symbol_ADI = \"ADI/\"\n",
    "# Extract financial data for companies\n",
    "financials_ADI = f\"{base_url_sandbox}{version}{symbol_ADI}financials?period=annual&token={token_sandbox}\"\n",
    "results_ADI = requests.get(financials_ADI).json()\n",
    "results_ADI = pd.DataFrame(results_ADI['financials'])\n",
    "results_ADI"
   ]
  },
  {
   "cell_type": "code",
   "execution_count": null,
   "metadata": {},
   "outputs": [],
   "source": [
    "symbol_MNST = \"MNST/\"\n",
    "# Extract financial data for companies\n",
    "financials_MNST = f\"{base_url_sandbox}{version}{symbol_MNST}financials?period=annual&token={token_sandbox}\"\n",
    "results_MNST = requests.get(financials_MNST).json()\n",
    "results_MNST = pd.DataFrame(results_MNST['financials'])\n",
    "results_MNST"
   ]
  },
  {
   "cell_type": "code",
   "execution_count": null,
   "metadata": {},
   "outputs": [],
   "source": [
    "symbol_KHC = \"KHC/\"\n",
    "# Extract financial data for companies\n",
    "financials_KHC = f\"{base_url_sandbox}{version}{symbol_KHC}financials?period=annual&token={token_sandbox}\"\n",
    "results_KHC = requests.get(financials_KHC).json()\n",
    "results_KHC = pd.DataFrame(results_KHC['financials'])\n",
    "results_KHC"
   ]
  },
  {
   "cell_type": "code",
   "execution_count": null,
   "metadata": {},
   "outputs": [],
   "source": [
    "symbol_EA = \"EA/\"\n",
    "# Extract financial data for companies\n",
    "financials_EA = f\"{base_url_sandbox}{version}{symbol_EA}financials?period=annual&token={token_sandbox}\"\n",
    "results_EA = requests.get(financials_EA).json()\n",
    "results_EA = pd.DataFrame(results_EA['financials'])\n",
    "results_EA"
   ]
  },
  {
   "cell_type": "code",
   "execution_count": null,
   "metadata": {},
   "outputs": [],
   "source": [
    "symbol_EBAY = \"EBAY/\"\n",
    "# Extract financial data for companies\n",
    "financials_EBAY = f\"{base_url_sandbox}{version}{symbol_EBAY}financials?period=annual&token={token_sandbox}\"\n",
    "results_EBAY = requests.get(financials_EBAY).json()\n",
    "results_EBAY = pd.DataFrame(results_EBAY['financials'])\n",
    "results_EBAY"
   ]
  },
  {
   "cell_type": "code",
   "execution_count": null,
   "metadata": {},
   "outputs": [],
   "source": [
    "symbol_DXCM = \"DXCM/\"\n",
    "# Extract financial data for companies\n",
    "financials_DXCM = f\"{base_url_sandbox}{version}{symbol_DXCM}financials?period=annual&token={token_sandbox}\"\n",
    "results_DXCM = requests.get(financials_DXCM).json()\n",
    "results_DXCM = pd.DataFrame(results_DXCM['financials'])\n",
    "results_DXCM"
   ]
  },
  {
   "cell_type": "code",
   "execution_count": null,
   "metadata": {},
   "outputs": [],
   "source": [
    "symbol_DOCU = \"DOCU/\"\n",
    "# Extract financial data for companies\n",
    "financials_DOCU = f\"{base_url_sandbox}{version}{symbol_DOCU}financials?period=annual&token={token_sandbox}\"\n",
    "results_DOCU = requests.get(financials_DOCU).json()\n",
    "results_DOCU = pd.DataFrame(results_DOCU['financials'])\n",
    "results_DOCU"
   ]
  },
  {
   "cell_type": "code",
   "execution_count": null,
   "metadata": {},
   "outputs": [],
   "source": [
    "symbol_NTES = \"NTES/\"\n",
    "# Extract financial data for companies\n",
    "financials_NTES = f\"{base_url_sandbox}{version}{symbol_NTES}financials?period=annual&token={token_sandbox}\"\n",
    "results_NTES = requests.get(financials_NTES).json()\n",
    "results_NTES = pd.DataFrame(results_NTES['financials'])\n",
    "results_NTES"
   ]
  },
  {
   "cell_type": "code",
   "execution_count": null,
   "metadata": {},
   "outputs": [],
   "source": [
    "symbol_WDAY = \"WDAY/\"\n",
    "# Extract financial data for companies\n",
    "financials_WDAY = f\"{base_url_sandbox}{version}{symbol_WDAY}financials?period=annual&token={token_sandbox}\"\n",
    "results_WDAY = requests.get(financials_WDAY).json()\n",
    "results_WDAY = pd.DataFrame(results_WDAY['financials'])\n",
    "results_WDAY"
   ]
  },
  {
   "cell_type": "code",
   "execution_count": null,
   "metadata": {},
   "outputs": [],
   "source": [
    "symbol_CTSH = \"CTSH/\"\n",
    "# Extract financial data for companies\n",
    "financials_CTSH = f\"{base_url_sandbox}{version}{symbol_CTSH}financials?period=annual&token={token_sandbox}\"\n",
    "results_CTSH = requests.get(financials_CTSH).json()\n",
    "results_CTSH = pd.DataFrame(results_CTSH['financials'])\n",
    "results_CTSH"
   ]
  },
  {
   "cell_type": "code",
   "execution_count": null,
   "metadata": {},
   "outputs": [],
   "source": [
    "symbol_EXC = \"EXC/\"\n",
    "# Extract financial data for companies\n",
    "financials_EXC = f\"{base_url_sandbox}{version}{symbol_EXC}financials?period=annual&token={token_sandbox}\"\n",
    "results_EXC = requests.get(financials_EXC).json()\n",
    "results_EXC = pd.DataFrame(results_EXC['financials'])\n",
    "results_EXC"
   ]
  },
  {
   "cell_type": "code",
   "execution_count": null,
   "metadata": {},
   "outputs": [],
   "source": [
    "symbol_XEL = \"XEL/\"\n",
    "# Extract financial data for companies\n",
    "financials_XEL = f\"{base_url_sandbox}{version}{symbol_XEL}financials?period=annual&token={token_sandbox}\"\n",
    "results_XEL = requests.get(financials_XEL).json()\n",
    "results_XEL = pd.DataFrame(results_XEL['financials'])\n",
    "results_XEL"
   ]
  },
  {
   "cell_type": "code",
   "execution_count": null,
   "metadata": {},
   "outputs": [],
   "source": [
    "symbol_NXPI = \"NXPI/\"\n",
    "# Extract financial data for companies\n",
    "financials_NXPI = f\"{base_url_sandbox}{version}{symbol_NXPI}financials?period=annual&token={token_sandbox}\"\n",
    "results_NXPI = requests.get(financials_NXPI).json()\n",
    "results_NXPI = pd.DataFrame(results_NXPI['financials'])\n",
    "results_NXPI"
   ]
  },
  {
   "cell_type": "code",
   "execution_count": null,
   "metadata": {},
   "outputs": [],
   "source": [
    "symbol_BIDU = \"BIDU/\"\n",
    "# Extract financial data for companies\n",
    "financials_BIDU = f\"{base_url_sandbox}{version}{symbol_BIDU}financials?period=annual&token={token_sandbox}\"\n",
    "results_BIDU = requests.get(financials_BIDU).json()\n",
    "results_BIDU = pd.DataFrame(results_BIDU['financials'])\n",
    "results_BIDU"
   ]
  },
  {
   "cell_type": "code",
   "execution_count": null,
   "metadata": {},
   "outputs": [],
   "source": [
    "symbol_SPLK = \"SPLK/\"\n",
    "# Extract financial data for companies\n",
    "financials_SPLK = f\"{base_url_sandbox}{version}{symbol_SPLK}financials?period=annual&token={token_sandbox}\"\n",
    "results_SPLK = requests.get(financials_SPLK).json()\n",
    "results_SPLK = pd.DataFrame(results_SPLK['financials'])\n",
    "results_SPLK"
   ]
  },
  {
   "cell_type": "code",
   "execution_count": null,
   "metadata": {},
   "outputs": [],
   "source": [
    "symbol_ORLY = \"ORLY/\"\n",
    "# Extract financial data for companies\n",
    "financials_ORLY = f\"{base_url_sandbox}{version}{symbol_ORLY}financials?period=annual&token={token_sandbox}\"\n",
    "results_ORLY = requests.get(financials_ORLY).json()\n",
    "results_ORLY = pd.DataFrame(results_ORLY['financials'])\n",
    "results_ORLY"
   ]
  },
  {
   "cell_type": "code",
   "execution_count": null,
   "metadata": {},
   "outputs": [],
   "source": [
    "symbol_WBA = \"WBA/\"\n",
    "# Extract financial data for companies\n",
    "financials_WBA = f\"{base_url_sandbox}{version}{symbol_WBA}financials?period=annual&token={token_sandbox}\"\n",
    "results_WBA = requests.get(financials_WBA).json()\n",
    "results_WBA = pd.DataFrame(results_WBA['financials'])\n",
    "results_WBA"
   ]
  },
  {
   "cell_type": "code",
   "execution_count": null,
   "metadata": {},
   "outputs": [],
   "source": [
    "symbol_CTAS = \"CTAS/\"\n",
    "# Extract financial data for companies\n",
    "financials_CTAS = f\"{base_url_sandbox}{version}{symbol_CTAS}financials?period=annual&token={token_sandbox}\"\n",
    "results_CTAS = requests.get(financials_CTAS).json()\n",
    "results_CTAS = pd.DataFrame(results_CTAS['financials'])\n",
    "results_CTAS"
   ]
  },
  {
   "cell_type": "code",
   "execution_count": null,
   "metadata": {},
   "outputs": [],
   "source": [
    "symbol_SNPS = \"SNPS/\"\n",
    "# Extract financial data for companies\n",
    "financials_SNPS = f\"{base_url_sandbox}{version}{symbol_SNPS}financials?period=annual&token={token_sandbox}\"\n",
    "results_SNPS = requests.get(financials_SNPS).json()\n",
    "results_SNPS = pd.DataFrame(results_SNPS['financials'])\n",
    "results_SNPS"
   ]
  },
  {
   "cell_type": "code",
   "execution_count": null,
   "metadata": {},
   "outputs": [],
   "source": [
    "symbol_KLAC = \"KLAC/\"\n",
    "# Extract financial data for companies\n",
    "financials_KLAC = f\"{base_url_sandbox}{version}{symbol_KLAC}financials?period=annual&token={token_sandbox}\"\n",
    "results_KLAC = requests.get(financials_KLAC).json()\n",
    "results_KLAC = pd.DataFrame(results_KLAC['financials'])\n",
    "results_KLAC"
   ]
  },
  {
   "cell_type": "code",
   "execution_count": null,
   "metadata": {},
   "outputs": [],
   "source": [
    "symbol_IDXX = \"IDXX/\"\n",
    "# Extract financial data for companies\n",
    "financials_IDXX = f\"{base_url_sandbox}{version}{symbol_IDXX}financials?period=annual&token={token_sandbox}\"\n",
    "results_IDXX = requests.get(financials_IDXX).json()\n",
    "results_IDXX = pd.DataFrame(results_IDXX['financials'])\n",
    "results_IDXX"
   ]
  },
  {
   "cell_type": "code",
   "execution_count": null,
   "metadata": {},
   "outputs": [],
   "source": [
    "symbol_ROST = \"ROST/\"\n",
    "# Extract financial data for companies\n",
    "financials_ROST = f\"{base_url_sandbox}{version}{symbol_ROST}financials?period=annual&token={token_sandbox}\"\n",
    "results_ROST = requests.get(financials_ROST).json()\n",
    "results_ROST = pd.DataFrame(results_ROST['financials'])\n",
    "results_ROST"
   ]
  },
  {
   "cell_type": "code",
   "execution_count": null,
   "metadata": {},
   "outputs": [],
   "source": [
    "symbol_MAR = \"MAR/\"\n",
    "# Extract financial data for companies\n",
    "financials_MAR = f\"{base_url_sandbox}{version}{symbol_MAR}financials?period=annual&token={token_sandbox}\"\n",
    "results_MAR = requests.get(financials_MAR).json()\n",
    "results_MAR = pd.DataFrame(results_MAR['financials'])\n",
    "results_MAR"
   ]
  },
  {
   "cell_type": "code",
   "execution_count": null,
   "metadata": {},
   "outputs": [],
   "source": [
    "symbol_CDNS = \"CDNS/\"\n",
    "# Extract financial data for companies\n",
    "financials_CDNS = f\"{base_url_sandbox}{version}{symbol_CDNS}financials?period=annual&token={token_sandbox}\"\n",
    "results_CDNS = requests.get(financials_CDNS).json()\n",
    "results_CDNS = pd.DataFrame(results_CDNS['financials'])\n",
    "results_CDNS"
   ]
  },
  {
   "cell_type": "code",
   "execution_count": null,
   "metadata": {},
   "outputs": [],
   "source": [
    "symbol_VRSK = \"VRSK/\"\n",
    "# Extract financial data for companies\n",
    "financials_VRSK = f\"{base_url_sandbox}{version}{symbol_VRSK}financials?period=annual&token={token_sandbox}\"\n",
    "results_VRSK = requests.get(financials_VRSK).json()\n",
    "results_VRSK = pd.DataFrame(results_VRSK['financials'])\n",
    "results_VRSK"
   ]
  },
  {
   "cell_type": "code",
   "execution_count": null,
   "metadata": {},
   "outputs": [],
   "source": [
    "symbol_PCAR = \"PCAR/\"\n",
    "# Extract financial data for companies\n",
    "financials_PCAR = f\"{base_url_sandbox}{version}{symbol_PCAR}financials?period=annual&token={token_sandbox}\"\n",
    "results_PCAR = requests.get(financials_PCAR).json()\n",
    "results_PCAR = pd.DataFrame(results_PCAR['financials'])\n",
    "results_PCAR"
   ]
  },
  {
   "cell_type": "code",
   "execution_count": null,
   "metadata": {},
   "outputs": [],
   "source": [
    "symbol_ASML = \"ASML/\"\n",
    "# Extract financial data for companies\n",
    "financials_ASML = f\"{base_url_sandbox}{version}{symbol_ASML}financials?period=annual&token={token_sandbox}\"\n",
    "results_ASML = requests.get(financials_ASML).json()\n",
    "results_ASML = pd.DataFrame(results_ASML['financials'])\n",
    "results_ASML"
   ]
  },
  {
   "cell_type": "code",
   "execution_count": null,
   "metadata": {},
   "outputs": [],
   "source": [
    "symbol_ANSS = \"ANSS/\"\n",
    "# Extract financial data for companies\n",
    "financials_ANSS = f\"{base_url_sandbox}{version}{symbol_ANSS}financials?period=annual&token={token_sandbox}\"\n",
    "results_ANSS = requests.get(financials_ANSS).json()\n",
    "results_ANSS = pd.DataFrame(results_ANSS['financials'])\n",
    "results_ANSS"
   ]
  },
  {
   "cell_type": "code",
   "execution_count": null,
   "metadata": {},
   "outputs": [],
   "source": [
    "symbol_FAST = \"FAST/\"\n",
    "# Extract financial data for companies\n",
    "financials_FAST = f\"{base_url_sandbox}{version}{symbol_FAST}financials?period=annual&token={token_sandbox}\"\n",
    "results_FAST = requests.get(financials_FAST).json()\n",
    "results_FAST = pd.DataFrame(results_FAST['financials'])\n",
    "results_FAST"
   ]
  },
  {
   "cell_type": "code",
   "execution_count": null,
   "metadata": {},
   "outputs": [],
   "source": [
    "symbol_MRNA = \"MRNA/\"\n",
    "# Extract financial data for companies\n",
    "financials_MRNA = f\"{base_url_sandbox}{version}{symbol_MRNA}financials?period=annual&token={token_sandbox}\"\n",
    "results_MRNA = requests.get(financials_MRNA).json()\n",
    "results_MRNA = pd.DataFrame(results_MRNA['financials'])\n",
    "results_MRNA"
   ]
  },
  {
   "cell_type": "code",
   "execution_count": null,
   "metadata": {},
   "outputs": [],
   "source": [
    "symbol_PAYX = \"PAYX/\"\n",
    "# Extract financial data for companies\n",
    "financials_PAYX = f\"{base_url_sandbox}{version}{symbol_PAYX}financials?period=annual&token={token_sandbox}\"\n",
    "results_PAYX = requests.get(financials_PAYX).json()\n",
    "results_PAYX = pd.DataFrame(results_PAYX['financials'])\n",
    "results_PAYX"
   ]
  },
  {
   "cell_type": "code",
   "execution_count": null,
   "metadata": {},
   "outputs": [],
   "source": [
    "symbol_SGEN = \"SGEN/\"\n",
    "# Extract financial data for companies\n",
    "financials_SGEN = f\"{base_url_sandbox}{version}{symbol_SGEN}financials?period=annual&token={token_sandbox}\"\n",
    "results_SGEN = requests.get(financials_SGEN).json()\n",
    "results_SGEN = pd.DataFrame(results_SGEN['financials'])\n",
    "results_SGEN"
   ]
  },
  {
   "cell_type": "code",
   "execution_count": null,
   "metadata": {},
   "outputs": [],
   "source": [
    "symbol_MCHP = \"MCHP/\"\n",
    "# Extract financial data for companies\n",
    "financials_MCHP = f\"{base_url_sandbox}{version}{symbol_MCHP}financials?period=annual&token={token_sandbox}\"\n",
    "results_MCHP = requests.get(financials_MCHP).json()\n",
    "results_MCHP = pd.DataFrame(results_MCHP['financials'])\n",
    "results_MCHP"
   ]
  },
  {
   "cell_type": "code",
   "execution_count": null,
   "metadata": {},
   "outputs": [],
   "source": [
    "symbol_SIRI = \"SIRI/\"\n",
    "# Extract financial data for companies\n",
    "financials_SIRI = f\"{base_url_sandbox}{version}{symbol_SIRI}financials?period=annual&token={token_sandbox}\"\n",
    "results_SIRI = requests.get(financials_SIRI).json()\n",
    "results_SIRI = pd.DataFrame(results_SIRI['financials'])\n",
    "results_SIRI"
   ]
  },
  {
   "cell_type": "code",
   "execution_count": null,
   "metadata": {},
   "outputs": [],
   "source": [
    "symbol_XLNX = \"XLNX/\"\n",
    "# Extract financial data for companies\n",
    "financials_XLNX = f\"{base_url_sandbox}{version}{symbol_XLNX}financials?period=annual&token={token_sandbox}\"\n",
    "results_XLNX = requests.get(financials_XLNX).json()\n",
    "results_XLNX = pd.DataFrame(results_XLNX['financials'])\n",
    "results_XLNX"
   ]
  },
  {
   "cell_type": "code",
   "execution_count": null,
   "metadata": {},
   "outputs": [],
   "source": [
    "symbol_DLTR = \"DLTR/\"\n",
    "# Extract financial data for companies\n",
    "financials_DLTR = f\"{base_url_sandbox}{version}{symbol_DLTR}financials?period=annual&token={token_sandbox}\"\n",
    "results_DLTR = requests.get(financials_DLTR).json()\n",
    "results_DLTR = pd.DataFrame(results_DLTR['financials'])\n",
    "results_DLTR"
   ]
  },
  {
   "cell_type": "code",
   "execution_count": null,
   "metadata": {},
   "outputs": [],
   "source": [
    "symbol_PDD = \"PDD/\"\n",
    "# Extract financial data for companies\n",
    "financials_PDD = f\"{base_url_sandbox}{version}{symbol_PDD}financials?period=annual&token={token_sandbox}\"\n",
    "results_PDD = requests.get(financials_PDD).json()\n",
    "results_PDD = pd.DataFrame(results_PDD['financials'])\n",
    "results_PDD"
   ]
  },
  {
   "cell_type": "code",
   "execution_count": null,
   "metadata": {},
   "outputs": [],
   "source": [
    "symbol_VRSN = \"VRSN/\"\n",
    "# Extract financial data for companies\n",
    "financials_VRSN = f\"{base_url_sandbox}{version}{symbol_VRSN}financials?period=annual&token={token_sandbox}\"\n",
    "results_VRSN = requests.get(financials_VRSN).json()\n",
    "results_VRSN = pd.DataFrame(results_VRSN['financials'])\n",
    "results_VRSN"
   ]
  },
  {
   "cell_type": "code",
   "execution_count": null,
   "metadata": {},
   "outputs": [],
   "source": [
    "symbol_CPRT = \"CPRT/\"\n",
    "# Extract financial data for companies\n",
    "financials_CPRT = f\"{base_url_sandbox}{version}{symbol_CPRT}financials?period=annual&token={token_sandbox}\"\n",
    "results_CPRT = requests.get(financials_CPRT).json()\n",
    "results_CPRT = pd.DataFrame(results_CPRT['financials'])\n",
    "results_CPRT"
   ]
  },
  {
   "cell_type": "code",
   "execution_count": null,
   "metadata": {},
   "outputs": [],
   "source": [
    "symbol_SWKS = \"SWKS/\"\n",
    "# Extract financial data for companies\n",
    "financials_SWKS = f\"{base_url_sandbox}{version}{symbol_SWKS}financials?period=annual&token={token_sandbox}\"\n",
    "results_SWKS = requests.get(financials_SWKS).json()\n",
    "results_SWKS = pd.DataFrame(results_SWKS['financials'])\n",
    "results_SWKS"
   ]
  },
  {
   "cell_type": "code",
   "execution_count": null,
   "metadata": {},
   "outputs": [],
   "source": [
    "symbol_ALGN = \"ALGN/\"\n",
    "# Extract financial data for companies\n",
    "financials_ALGN = f\"{base_url_sandbox}{version}{symbol_ALGN}financials?period=annual&token={token_sandbox}\"\n",
    "results_ALGN = requests.get(financials_ALGN).json()\n",
    "results_ALGN = pd.DataFrame(results_ALGN['financials'])\n",
    "results_ALGN"
   ]
  },
  {
   "cell_type": "code",
   "execution_count": null,
   "metadata": {},
   "outputs": [],
   "source": [
    "symbol_ALXN = \"ALXN/\"\n",
    "# Extract financial data for companies\n",
    "financials_ALXN = f\"{base_url_sandbox}{version}{symbol_ALXN}financials?period=annual&token={token_sandbox}\"\n",
    "results_ALXN = requests.get(financials_ALXN).json()\n",
    "results_ALXN = pd.DataFrame(results_ALXN['financials'])\n",
    "results_ALXN"
   ]
  },
  {
   "cell_type": "code",
   "execution_count": null,
   "metadata": {},
   "outputs": [],
   "source": [
    "symbol_CERN = \"CERN/\"\n",
    "# Extract financial data for companies\n",
    "financials_CERN = f\"{base_url_sandbox}{version}{symbol_CERN}financials?period=annual&token={token_sandbox}\"\n",
    "results_CERN = requests.get(financials_CERN).json()\n",
    "results_CERN = pd.DataFrame(results_CERN['financials'])\n",
    "results_CERN"
   ]
  },
  {
   "cell_type": "code",
   "execution_count": null,
   "metadata": {},
   "outputs": [],
   "source": [
    "symbol_INCY = \"INCY/\"\n",
    "# Extract financial data for companies\n",
    "financials_INCY = f\"{base_url_sandbox}{version}{symbol_INCY}financials?period=annual&token={token_sandbox}\"\n",
    "results_INCY = requests.get(financials_INCY).json()\n",
    "results_INCY = pd.DataFrame(results_INCY['financials'])\n",
    "results_INCY"
   ]
  },
  {
   "cell_type": "code",
   "execution_count": null,
   "metadata": {},
   "outputs": [],
   "source": [
    "symbol_TTWO = \"TTWO/\"\n",
    "# Extract financial data for companies\n",
    "financials_TTWO = f\"{base_url_sandbox}{version}{symbol_TTWO}financials?period=annual&token={token_sandbox}\"\n",
    "results_TTWO = requests.get(financials_TTWO).json()\n",
    "results_TTWO = pd.DataFrame(results_TTWO['financials'])\n",
    "results_TTWO"
   ]
  },
  {
   "cell_type": "code",
   "execution_count": null,
   "metadata": {},
   "outputs": [],
   "source": [
    "symbol_MXIM = \"MXIM/\"\n",
    "# Extract financial data for companies\n",
    "financials_MXIM = f\"{base_url_sandbox}{version}{symbol_MXIM}financials?period=annual&token={token_sandbox}\"\n",
    "results_MXIM = requests.get(financials_MXIM).json()\n",
    "results_MXIM = pd.DataFrame(results_MXIM['financials'])\n",
    "results_MXIM"
   ]
  },
  {
   "cell_type": "code",
   "execution_count": null,
   "metadata": {},
   "outputs": [],
   "source": [
    "symbol_CHKP = \"CHKP/\"\n",
    "# Extract financial data for companies\n",
    "financials_CHKP = f\"{base_url_sandbox}{version}{symbol_CHKP}financials?period=annual&token={token_sandbox}\"\n",
    "results_CHKP = requests.get(financials_CHKP).json()\n",
    "results_CHKP = pd.DataFrame(results_CHKP['financials'])\n",
    "results_CHKP"
   ]
  },
  {
   "cell_type": "code",
   "execution_count": null,
   "metadata": {},
   "outputs": [],
   "source": [
    "symbol_CTXS = \"CTXS/\"\n",
    "# Extract financial data for companies\n",
    "financials_CTXS = f\"{base_url_sandbox}{version}{symbol_CTXS}financials?period=annual&token={token_sandbox}\"\n",
    "results_CTXS = requests.get(financials_CTXS).json()\n",
    "results_CTXS = pd.DataFrame(results_CTXS['financials'])\n",
    "results_CTXS"
   ]
  },
  {
   "cell_type": "code",
   "execution_count": null,
   "metadata": {},
   "outputs": [],
   "source": [
    "symbol_CDW = \"CDW/\"\n",
    "# Extract financial data for companies\n",
    "financials_CDW = f\"{base_url_sandbox}{version}{symbol_CDW}financials?period=annual&token={token_sandbox}\"\n",
    "results_CDW = requests.get(financials_CDW).json()\n",
    "results_CDW = pd.DataFrame(results_CDW['financials'])\n",
    "results_CDW"
   ]
  },
  {
   "cell_type": "code",
   "execution_count": null,
   "metadata": {},
   "outputs": [],
   "source": [
    "symbol_TCOM = \"TCOM/\"\n",
    "# Extract financial data for companies\n",
    "financials_TCOM = f\"{base_url_sandbox}{version}{symbol_TCOM}financials?period=annual&token={token_sandbox}\"\n",
    "results_TCOM = requests.get(financials_TCOM).json()\n",
    "results_TCOM = pd.DataFrame(results_TCOM['financials'])\n",
    "results_TCOM"
   ]
  },
  {
   "cell_type": "code",
   "execution_count": null,
   "metadata": {},
   "outputs": [],
   "source": [
    "symbol_BMRN = \"BMRN/\"\n",
    "# Extract financial data for companies\n",
    "financials_BMRN = f\"{base_url_sandbox}{version}{symbol_BMRN}financials?period=annual&token={token_sandbox}\"\n",
    "results_BMRN = requests.get(financials_BMRN).json()\n",
    "results_BMRN = pd.DataFrame(results_BMRN['financials'])\n",
    "results_BMRN"
   ]
  },
  {
   "cell_type": "code",
   "execution_count": null,
   "metadata": {},
   "outputs": [],
   "source": [
    "symbol_EXPE = \"EXPE/\"\n",
    "# Extract financial data for companies\n",
    "financials_EXPE = f\"{base_url_sandbox}{version}{symbol_EXPE}financials?period=annual&token={token_sandbox}\"\n",
    "results_EXPE = requests.get(financials_EXPE).json()\n",
    "results_EXPE = pd.DataFrame(results_EXPE['financials'])\n",
    "results_EXPE"
   ]
  },
  {
   "cell_type": "code",
   "execution_count": null,
   "metadata": {},
   "outputs": [],
   "source": [
    "symbol_ULTA = \"ULTA/\"\n",
    "# Extract financial data for companies\n",
    "financials_ULTA = f\"{base_url_sandbox}{version}{symbol_ULTA}financials?period=annual&token={token_sandbox}\"\n",
    "results_ULTA = requests.get(financials_ULTA).json()\n",
    "results_ULTA = pd.DataFrame(results_ULTA['financials'])\n",
    "results_ULTA"
   ]
  },
  {
   "cell_type": "code",
   "execution_count": null,
   "metadata": {},
   "outputs": [],
   "source": [
    "symbol_WDC = \"WDC/\"\n",
    "# Extract financial data for companies\n",
    "financials_WDC = f\"{base_url_sandbox}{version}{symbol_WDC}financials?period=annual&token={token_sandbox}\"\n",
    "results_WDC = requests.get(financials_WDC).json()\n",
    "results_WDC = pd.DataFrame(results_WDC['financials'])\n",
    "results_WDC"
   ]
  },
  {
   "cell_type": "code",
   "execution_count": null,
   "metadata": {},
   "outputs": [],
   "source": [
    "symbol_LBTYK = \"LBTYK/\"\n",
    "# Extract financial data for companies\n",
    "financials_LBTYK = f\"{base_url_sandbox}{version}{symbol_LBTYK}financials?period=annual&token={token_sandbox}\"\n",
    "results_LBTYK = requests.get(financials_LBTYK).json()\n",
    "results_LBTYK = pd.DataFrame(results_LBTYK['financials'])\n",
    "results_LBTYK"
   ]
  },
  {
   "cell_type": "code",
   "execution_count": null,
   "metadata": {},
   "outputs": [],
   "source": [
    "financials_NASDAQ1 = pd.concat([results_AAPL,results_AMZN,results_MSFT,\n",
    "        results_FB,results_GOOGL,results_GOOGL,results_TSLA,\n",
    "        results_NVDA,results_ADBE,results_NFLX])\n",
    "financials_NASDAQ2 = pd.concat([results_PYPL,\n",
    "        results_INTC,results_CMCSA,results_PEP,results_CSCO,\n",
    "        results_COST,results_AMGN,results_TMUS,results_AVGO,\n",
    "        results_TXN])\n",
    "financials_NASDAQ3 = pd.concat([results_QCOM,results_CHTR,results_AMD,\n",
    "        results_SBUX,results_INTU,results_MDLZ,results_GILD,\n",
    "        results_ISRG,results_BKNG,results_JD])\n",
    "financials_NASDAQ4 = pd.concat([results_VRTX,\n",
    "        results_FISV,results_ATVI,results_REGN,results_MELI,\n",
    "        results_ADP,results_AMAT,results_CSX,results_ADSK,\n",
    "        results_ILMN])\n",
    "financials_NASDAQ5 = pd.concat([results_LRCX,results_MU,results_ZM,\n",
    "        results_LULU,results_BIIB,results_ADI,results_MNST,\n",
    "        results_KHC,results_EA,results_EBAY])\n",
    "financials_NASDAQ6 = pd.concat([results_DXCM,\n",
    "        results_DOCU,results_NTES,results_WDAY,results_CTSH,\n",
    "        results_EXC,results_XEL,results_NXPI,results_BIDU,\n",
    "        results_SPLK])\n",
    "financials_NASDAQ7 = pd.concat([results_ORLY,results_WBA,results_CTAS,\n",
    "        results_SNPS,results_KLAC,results_IDXX,results_ROST,\n",
    "        results_MAR,results_CDNS,results_VRSK])\n",
    "financials_NASDAQ8 = pd.concat([results_PCAR,\n",
    "        results_ASML,results_ANSS,results_FAST,results_MRNA,\n",
    "        results_PAYX,results_SGEN,results_MCHP,results_SIRI,\n",
    "        results_XLNX])\n",
    "financials_NASDAQ9 = pd.concat([results_DLTR,results_PDD,results_VRSN,\n",
    "        results_CPRT,results_SWKS,results_ALGN,results_ALXN,\n",
    "        results_CERN,results_INCY,results_TTWO])\n",
    "financials_NASDAQ10 = pd.concat([results_MXIM,\n",
    "        results_CHKP,results_CTXS,results_CDW,results_TCOM,\n",
    "        results_BMRN,results_EXPE,results_ULTA,results_WDC,\n",
    "        results_LBTYK])\n",
    "financials_NASDAQ = pd.concat([financials_NASDAQ1,financials_NASDAQ2,\n",
    "                                    financials_NASDAQ3,financials_NASDAQ4,\n",
    "                                    financials_NASDAQ5,financials_NASDAQ6,\n",
    "                                    financials_NASDAQ7,financials_NASDAQ8,\n",
    "                                    financials_NASDAQ9,financials_NASDAQ10])\n",
    "financials_NASDAQ"
   ]
  },
  {
   "cell_type": "code",
   "execution_count": null,
   "metadata": {},
   "outputs": [],
   "source": [
    "financials_NASDAQ.to_csv(\"financials_NASDAQ.csv\")"
   ]
  },
  {
   "cell_type": "code",
   "execution_count": null,
   "metadata": {},
   "outputs": [],
   "source": []
  }
 ],
 "metadata": {
  "kernelspec": {
   "display_name": "Python 3",
   "language": "python",
   "name": "python3"
  },
  "language_info": {
   "codemirror_mode": {
    "name": "ipython",
    "version": 3
   },
   "file_extension": ".py",
   "mimetype": "text/x-python",
   "name": "python",
   "nbconvert_exporter": "python",
   "pygments_lexer": "ipython3",
   "version": "3.7.4"
  }
 },
 "nbformat": 4,
 "nbformat_minor": 2
}
